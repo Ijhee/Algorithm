{
 "cells": [
  {
   "cell_type": "markdown",
   "id": "0248ba56",
   "metadata": {},
   "source": [
    "## Stack & Queue"
   ]
  },
  {
   "cell_type": "markdown",
   "id": "5fca9951",
   "metadata": {},
   "source": [
    "### Stack"
   ]
  },
  {
   "cell_type": "markdown",
   "id": "ad1099c3",
   "metadata": {},
   "source": [
    "#### 1) Stack의 개념\n",
    "> 한 쪽 끝에서만 자료를 넣고 뺼 수 있는 LIFO(Last in First Out) 형식의 자료구조 </br></br>\n",
    "#### 2) Stack의 연산\n",
    "> - pop : 스택에서 가장 위에 있는 항목 제거\n",
    "> - push : item 하나를 스택의 가장 윗 부분에 추가\n",
    "> - peek : 스택의 가장 위에 있는 항목 반환\n",
    "> - isEmpty : 스택이 비어있을 때 true 반환 </br></br>\n",
    "#### 3) Stack의 구현\n",
    "> - 배열과 달리 스택은 상수 시간에 I번째 항목 접근 불가 -> 항목 접근하려면 push 계속 해야할 듯?\n",
    "> - 하지만 스택에서 데이터 추가 & 삭제는 상수 시간 가능 (pop&push)\n",
    "> - 배열처럼 원소들을 하나씩 옆으로 밀어 줄 필요가 없다.\n",
    "#### 4) 스택의 사용 사례\n",
    "> - 재귀 알고리즘\n",
    "> - 수식의 괄호 검사"
   ]
  },
  {
   "cell_type": "markdown",
   "id": "2bf078f6",
   "metadata": {},
   "source": [
    "1. 교재 Code -> 재귀 코드"
   ]
  },
  {
   "cell_type": "code",
   "execution_count": 1,
   "id": "304c44e3",
   "metadata": {},
   "outputs": [],
   "source": [
    "class Node:\n",
    "    def __init__(self, item, next):\n",
    "        self.item = item\n",
    "        self.next = next"
   ]
  },
  {
   "cell_type": "code",
   "execution_count": 2,
   "id": "ad841af7",
   "metadata": {},
   "outputs": [],
   "source": [
    "class Stack:\n",
    "    def __init__(self):\n",
    "        self.last = None\n",
    "        \n",
    "    def push(self, item):\n",
    "        self.last = Node(item, self.last)\n",
    "        \n",
    "    def pop(self):\n",
    "        item = self.last.item\n",
    "        self.last = self.last.next\n",
    "        return item"
   ]
  },
  {
   "cell_type": "code",
   "execution_count": 11,
   "id": "e191f111",
   "metadata": {},
   "outputs": [],
   "source": [
    "stack = Stack()\n",
    "stack.push(1)\n",
    "stack.push(2)\n",
    "stack.push(3)\n",
    "stack.push(4)\n",
    "\n",
    "for _ in range(4):\n",
    "    print(stack.pop())"
   ]
  },
  {
   "cell_type": "markdown",
   "id": "5f0be4b3",
   "metadata": {},
   "source": [
    "2. Blog Code -> 임시 변수 사용"
   ]
  },
  {
   "cell_type": "code",
   "execution_count": 7,
   "id": "71171ab8",
   "metadata": {},
   "outputs": [],
   "source": [
    "class Node:\n",
    "    def __init__(self, data):\n",
    "        self.data = data\n",
    "        self.next = None\n",
    "        \n",
    "class Stack:\n",
    "    def __init__(self):\n",
    "        self.head = None\n",
    "    \n",
    "    def push(self, data):\n",
    "        new_node = Node(data)\n",
    "        new_node.next = self.head\n",
    "        self.head = new_node\n",
    "        \n",
    "    def pop(self):\n",
    "        if self.is_empty():\n",
    "            return -1\n",
    "        data = self.head.data\n",
    "        self.head = self.head.next\n",
    "        return data\n",
    "    \n",
    "    def is_empty(self): #stack이 비어있을 때 True를 반환\n",
    "        if self.head:\n",
    "            return False\n",
    "        return True\n",
    "    \n",
    "    def peek(self): #가장 위에 있는 데이터를 '반환만'\n",
    "        if self.is_empty():\n",
    "            return -1\n",
    "        return self.head.data"
   ]
  },
  {
   "cell_type": "markdown",
   "id": "132bd227",
   "metadata": {},
   "source": [
    "### Queue"
   ]
  },
  {
   "cell_type": "markdown",
   "id": "81a97516",
   "metadata": {},
   "source": [
    "#### 1) Queue의 개념\n",
    "> 먼저 집어넣은 데이터가 먼저 나오는 FIFO(First in First Out) 형식의 자료구조 </br></br>\n",
    "#### 2) Queue의 연산\n",
    "> - enQueue : 큐에 데이터 삽입\n",
    "> - deQueue : 큐에서 데이터 뺴내기 </br></br>\n",
    "#### 3) Queue의 구현\n",
    "> - 데이터 삽입 & 삭제 상수 시간 가능\n",
    "> - 하지만 중간에 위치한 데이터 접근 어려움\n",
    "> - 배열로 구현하면 삽입, 삭제에 한계 존재 -> 원형 큐\n",
    "#### 4) Queue의 사용 사례\n",
    "> - 우선순위 작업\n",
    "> - BFS"
   ]
  },
  {
   "cell_type": "code",
   "execution_count": 2,
   "id": "5a39e357",
   "metadata": {},
   "outputs": [],
   "source": [
    "class Node:\n",
    "    def __init__(self, data):\n",
    "        self.data = data\n",
    "        self.next = None\n",
    "        \n",
    "class Queue:\n",
    "    def __init__(self):\n",
    "        self.head = None\n",
    "        self.last = None\n",
    "        \n",
    "    def enqueue(self, data): #데이터 입력하는 함수\n",
    "        if self.last is None:\n",
    "            self.head = Node(data)\n",
    "            self.last = self.head\n",
    "        else:\n",
    "            self.last.next = Node(data)\n",
    "            self.last = self.last.next\n",
    "\n",
    "    def dequeue(self): #데이터 출력하는 함수\n",
    "        if self.head is None:\n",
    "            return None\n",
    "        else:\n",
    "            to_return = self.head.data\n",
    "            self.head = self.head.next\n",
    "            return to_return"
   ]
  }
 ],
 "metadata": {
  "kernelspec": {
   "display_name": "Python 3 (ipykernel)",
   "language": "python",
   "name": "python3"
  },
  "language_info": {
   "codemirror_mode": {
    "name": "ipython",
    "version": 3
   },
   "file_extension": ".py",
   "mimetype": "text/x-python",
   "name": "python",
   "nbconvert_exporter": "python",
   "pygments_lexer": "ipython3",
   "version": "3.9.7"
  }
 },
 "nbformat": 4,
 "nbformat_minor": 5
}
