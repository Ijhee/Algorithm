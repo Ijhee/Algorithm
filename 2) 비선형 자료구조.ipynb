{
 "cells": [
  {
   "cell_type": "markdown",
   "id": "c5a5c64b",
   "metadata": {},
   "source": [
    "## 1) Graph"
   ]
  },
  {
   "cell_type": "code",
   "execution_count": null,
   "id": "42b3ad48",
   "metadata": {},
   "outputs": [],
   "source": [
    "graph = {\n",
    "    1 : [2,3,4],\n",
    "    2 : [5],\n",
    "    3 : [5],\n",
    "    4 : [],\n",
    "    5 : [6,7],\n",
    "    6 : [],\n",
    "    7 : [3],\n",
    "}"
   ]
  },
  {
   "cell_type": "markdown",
   "id": "583638a9",
   "metadata": {},
   "source": [
    "### DFS"
   ]
  },
  {
   "cell_type": "markdown",
   "id": "9d59154b",
   "metadata": {},
   "source": [
    "- 재귀 구조로 구현"
   ]
  },
  {
   "cell_type": "code",
   "execution_count": null,
   "id": "ade4e56a",
   "metadata": {},
   "outputs": [],
   "source": [
    "def recursive_dfs(v, discovered = []): # v: 출발 노드\n",
    "    discovered.append(v)\n",
    "    for w in graph[v]:\n",
    "        if not w in discovered: # w를 아직 방문하지 않았다면\n",
    "            discovered = recursive_dfs(w, discovered)\n",
    "    return discovered"
   ]
  },
  {
   "cell_type": "markdown",
   "id": "3bb52ef8",
   "metadata": {},
   "source": [
    "- 스택을 이용한 반복 구조로 구현"
   ]
  },
  {
   "cell_type": "code",
   "execution_count": null,
   "id": "8ba55e1e",
   "metadata": {},
   "outputs": [],
   "source": [
    "def iterative_dfs(start_v):\n",
    "    discovered = []\n",
    "    stack = [start_v]\n",
    "    while stack:\n",
    "        v = stack.pop()\n",
    "    if v not in discovered:\n",
    "        discovered.append(v)\n",
    "        for w in graph[v]:\n",
    "            stack.append(w)\n",
    "    return discovered"
   ]
  },
  {
   "cell_type": "markdown",
   "id": "ede57578",
   "metadata": {},
   "source": [
    "### BFS"
   ]
  },
  {
   "cell_type": "code",
   "execution_count": 6,
   "id": "7b47862e",
   "metadata": {},
   "outputs": [],
   "source": [
    "def iterative_bfs(start_v):\n",
    "    discovered = []\n",
    "    queue = [start_v]\n",
    "    while queue:\n",
    "        v = queue.pop(0)\n",
    "    if v not in discovered:\n",
    "        for w in graph[v]:\n",
    "            discovered.append(v)\n",
    "            queue.append(w)\n",
    "    return discovered"
   ]
  },
  {
   "cell_type": "code",
   "execution_count": 7,
   "id": "a2c6d026",
   "metadata": {},
   "outputs": [],
   "source": [
    "dic = [['d','a'], ['b','c']]"
   ]
  },
  {
   "cell_type": "code",
   "execution_count": 8,
   "id": "607bdab9",
   "metadata": {},
   "outputs": [
    {
     "data": {
      "text/plain": [
       "[['b', 'c'], ['d', 'a']]"
      ]
     },
     "execution_count": 8,
     "metadata": {},
     "output_type": "execute_result"
    }
   ],
   "source": [
    "sorted(dic)"
   ]
  },
  {
   "cell_type": "code",
   "execution_count": 3,
   "id": "f781a79f",
   "metadata": {},
   "outputs": [
    {
     "data": {
      "text/plain": [
       "{'b': ['c', 'a'], 'a': ['d', 'c']}"
      ]
     },
     "execution_count": 3,
     "metadata": {},
     "output_type": "execute_result"
    }
   ],
   "source": [
    "dic"
   ]
  },
  {
   "cell_type": "code",
   "execution_count": null,
   "id": "b1b9d3a9",
   "metadata": {},
   "outputs": [],
   "source": []
  }
 ],
 "metadata": {
  "kernelspec": {
   "display_name": "Python 3 (ipykernel)",
   "language": "python",
   "name": "python3"
  },
  "language_info": {
   "codemirror_mode": {
    "name": "ipython",
    "version": 3
   },
   "file_extension": ".py",
   "mimetype": "text/x-python",
   "name": "python",
   "nbconvert_exporter": "python",
   "pygments_lexer": "ipython3",
   "version": "3.9.7"
  }
 },
 "nbformat": 4,
 "nbformat_minor": 5
}
