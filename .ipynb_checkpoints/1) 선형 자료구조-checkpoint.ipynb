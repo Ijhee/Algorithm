{
 "cells": [
  {
   "cell_type": "markdown",
   "id": "a983856b",
   "metadata": {},
   "source": [
    "### 1) 문자열 조작"
   ]
  },
  {
   "cell_type": "markdown",
   "id": "b026eb0f",
   "metadata": {},
   "source": [
    "#### 1-1) 유효한 팰린드롬"
   ]
  },
  {
   "cell_type": "code",
   "execution_count": 33,
   "id": "74f754bf",
   "metadata": {},
   "outputs": [],
   "source": [
    "#1 )list로 변환\n",
    "s = \"A man, a plan, a canal: Panama\"\n",
    "\n",
    "def isPalindrome(s):\n",
    "    strs = []\n",
    "    for char in s:\n",
    "        if char.isalnum(): #isalnum : 숫자나 영어로 문자열이 구성되어 있으면 True 반환\n",
    "            strs.append(char.lower())\n",
    "\n",
    "    while len(strs) > 1:\n",
    "        if strs.pop(0) != strs.pop(): #pop에 인자를 넣지 않으면 마지막 원소 배출\n",
    "            return False\n",
    "    return True"
   ]
  },
  {
   "cell_type": "code",
   "execution_count": 61,
   "id": "900bbf6f",
   "metadata": {},
   "outputs": [],
   "source": [
    "#2 ) Deque\n",
    "import collections\n",
    "\n",
    "s = \"A man, a plan, a canal: Panama\"\n",
    "\n",
    "def isPalindrome(s) -> bool:\n",
    "    strs = collections.deque()\n",
    "    \n",
    "    for char in s:\n",
    "        if char.isalnum():\n",
    "            strs.append(char.lower())\n",
    "            \n",
    "    while len(strs) > 1:\n",
    "        if strs.popleft() != strs.pop(): #pop에 인자를 넣지 않으면 마지막 원소 배출\n",
    "            return False\n",
    "    return True"
   ]
  },
  {
   "cell_type": "code",
   "execution_count": 75,
   "id": "442614fb",
   "metadata": {},
   "outputs": [],
   "source": [
    "# 3) Slicing\n",
    "\n",
    "import re\n",
    "\n",
    "s = \"A man, a plan, a canal: Panama\"\n",
    "\n",
    "def isPalindrome(s):\n",
    "    s = s.lower()\n",
    "    \n",
    "    s = re.sub('[^a-z0-9]', '', s)\n",
    "    \n",
    "    return s == s[::-1]"
   ]
  },
  {
   "cell_type": "markdown",
   "id": "1dadefd4",
   "metadata": {},
   "source": [
    "#### 1-2 ) 문자열 뒤집기"
   ]
  },
  {
   "cell_type": "code",
   "execution_count": 19,
   "id": "302aab4d",
   "metadata": {},
   "outputs": [],
   "source": [
    "#1) 투 포인터를 이용한 스왑\n",
    "\n",
    "def reverseString():\n",
    "    s = list(map(str,input()))\n",
    "    left, right = 0, len(s)-1\n",
    "    \n",
    "    while left < right :\n",
    "        s[left], s[right] = s[right], s[left]\n",
    "        left += 1\n",
    "        right -= 1\n",
    "        \n",
    "    return s"
   ]
  },
  {
   "cell_type": "code",
   "execution_count": null,
   "id": "354f10cf",
   "metadata": {},
   "outputs": [],
   "source": [
    "#2) Reverse\n",
    "\n",
    "s = [\"h\",\"e\",\"l\",\"l\",\"o\"]\n",
    "\n",
    "def reverseString(s):\n",
    "    s.reverse()"
   ]
  },
  {
   "cell_type": "markdown",
   "id": "2950a384",
   "metadata": {},
   "source": [
    "#### 1-3) 로그파일 재정렬"
   ]
  },
  {
   "cell_type": "markdown",
   "id": "d97ceed2",
   "metadata": {},
   "source": [
    "1. 로그의 가장 앞 부분은 식별자다. </br>\n",
    "2. 문자로 구성된 로그가 숫자 로그보다 앞에 온다.</br>\n",
    "3. 식별자는 순서에 영향을 끼치지 않지만, 문자가 동일할 경우 식별자 순으로 한다.</br>\n",
    "4. 숫자 로그는 입력 순서대로 한다.</br>"
   ]
  },
  {
   "cell_type": "code",
   "execution_count": 105,
   "id": "8da0bca4",
   "metadata": {},
   "outputs": [],
   "source": [
    "#1) lambda 와 연산자 이용\n",
    "\n",
    "logs = [\"dig1 8 1 5 1\", \"let1 art can\", \"let2 own kit dig\", \"let3 art zero\"]\n",
    "\n",
    "def reorderLog(logs):\n",
    "    letters, digits = [], []\n",
    "    for log in logs:\n",
    "        if log.split()[1].isdigit():\n",
    "            digits.append(log)\n",
    "        else:\n",
    "            letters.append(log)\n",
    "    \n",
    "    letters.sort(key = lambda x : (x.split()[1:], x.split()[0]))\n",
    "    \n",
    "    return letters + digits"
   ]
  },
  {
   "cell_type": "markdown",
   "id": "9ca2f5b4",
   "metadata": {},
   "source": [
    "#### 1-4) 가장 흔한 단어"
   ]
  },
  {
   "cell_type": "code",
   "execution_count": 140,
   "id": "e2a8fe38",
   "metadata": {},
   "outputs": [],
   "source": [
    "#1) 정규표현식, counter\n",
    "\n",
    "paragraph = \"Bob hit a ball, the hit BALL flew far after it was hit\"\n",
    "banned = [\"hit\"]\n",
    "    \n",
    "def mostCommon(paragraph, banned):\n",
    "\n",
    "    words = [word for word in re.sub(r'[^\\w]', ' ', paragraph).lower().split() if word not in banned]\n",
    "\n",
    "    counts = collections.Counter(words)\n",
    "\n",
    "    return counts.most_common(1)[0][0]"
   ]
  },
  {
   "cell_type": "markdown",
   "id": "811d87f9",
   "metadata": {},
   "source": [
    "#### 1-5) 그룹 애너그램"
   ]
  },
  {
   "cell_type": "code",
   "execution_count": 152,
   "id": "9f3eeb37",
   "metadata": {},
   "outputs": [],
   "source": [
    "#1) 정렬하여 dictionary에 추가\n",
    "\n",
    "strs = [\"eat\",\"tea\",\"tan\",\"ate\",\"nat\",\"bat\"]\n",
    "\n",
    "def groupAnagrams(strs):\n",
    "    anagrams = collections.defaultdict(list) #key에 value가 없을 경우 0의 값을 저장\n",
    "    \n",
    "    for word in strs:\n",
    "        anagrams[''.join(sorted(word))].append(word)\n",
    "    return anagrams.values()"
   ]
  },
  {
   "cell_type": "markdown",
   "id": "eb081efc",
   "metadata": {},
   "source": [
    "#### 1-6) 가장 긴 팰린드롬 부분 문자열"
   ]
  },
  {
   "cell_type": "code",
   "execution_count": 158,
   "id": "6a346361",
   "metadata": {},
   "outputs": [],
   "source": [
    "#1) 중앙을 중심으로 확장하는 풀이\n",
    "\n",
    "s = 'babad'\n",
    "\n",
    "def longestPalindrome(s):\n",
    "    def expand(left, right):\n",
    "        while left >= 0 and right <= len(s) and s[left] == s[right-1]:\n",
    "            left -= 1\n",
    "            right += 1\n",
    "        return s[left + 1 : right -1]\n",
    "    \n",
    "    if len(s) < 2 or s == s[::-1]:\n",
    "        return s\n",
    "    \n",
    "    result = ''\n",
    "    for i in range(len(s)-1):\n",
    "        result = max(result, expand(i, i+1), expand(i, i+2), key = len) # 기존 결과, 2칸, 3칸\n",
    "    \n",
    "    return result"
   ]
  },
  {
   "cell_type": "markdown",
   "id": "43dca95c",
   "metadata": {},
   "source": [
    "### 관련 백준 문제 </br>\n",
    "**팰린드롬**  </br></br>\n",
    "10988 팰린드롬인지 확인하기 (https://www.acmicpc.net/problem/10988)</br>\n",
    "1259 팰린드롬수 (https://www.acmicpc.net/problem/1259)</br>\n",
    "8892 팰린드롬 (https://www.acmicpc.net/problem/8892)</br>\n",
    "10942 팰린드롬? (https://www.acmicpc.net/problem/10942)</br></br>\n",
    "\n",
    "**문자열 뒤집기**</br></br>\n",
    "9093 단어뒤집기(https://www.acmicpc.net/problem/9093)</br>\n",
    "3062 수 뒤집기(https://www.acmicpc.net/problem/3062)</br>\n",
    "1439 뒤집기 (https://www.acmicpc.net/problem/1439)</br>\n",
    "17431 단어뒤집기 (https://www.acmicpc.net/problem/17413)</br></br>\n",
    "\n",
    "**애너그램**</br></br>\n",
    "1919 애너그램 만들기 (https://www.acmicpc.net/problem/1919)</br>\n",
    "6996 애너그램 (https://www.acmicpc.net/problem/6996)</br>\n"
   ]
  },
  {
   "cell_type": "code",
   "execution_count": 162,
   "id": "c3316e2d",
   "metadata": {},
   "outputs": [
    {
     "name": "stdout",
     "output_type": "stream",
     "text": [
      "baekjoon\n",
      "0\n"
     ]
    }
   ],
   "source": [
    "#10988\n",
    "s = input()\n",
    "\n",
    "if s == s[::-1]:\n",
    "    print(1)\n",
    "else:\n",
    "    print(0)"
   ]
  },
  {
   "cell_type": "code",
   "execution_count": 173,
   "id": "df435e67",
   "metadata": {
    "scrolled": true
   },
   "outputs": [
    {
     "name": "stdout",
     "output_type": "stream",
     "text": [
      "0\n"
     ]
    }
   ],
   "source": [
    "#1259\n",
    "while True:\n",
    "    N=int(input())\n",
    "    str_N=list(str(N))\n",
    "    if N != 0:\n",
    "        if str_N == str_N[::-1]:\n",
    "            print('yes')\n",
    "        else:\n",
    "            print('no')\n",
    "    else:\n",
    "        break"
   ]
  },
  {
   "cell_type": "code",
   "execution_count": null,
   "id": "fb1dbc2d",
   "metadata": {},
   "outputs": [],
   "source": [
    "#8892\n",
    "def Palindrom():\n",
    "    n = int(input())\n",
    "    lst = [input() for _ in range(n)]\n",
    "    \n",
    "    for i in range(n):\n",
    "        for j in range(n):\n",
    "            if i != j:\n",
    "                s = lst[i] + lst[j]\n",
    "                if s == s[::-1]:\n",
    "                    return s\n",
    "    return 0\n",
    "\n",
    "T = int(input())\n",
    "\n",
    "for _ in range(T):\n",
    "    ans = Palindrom()\n",
    "    print(0) if ans == 0 else print(ans)"
   ]
  },
  {
   "cell_type": "code",
   "execution_count": 239,
   "id": "42ce686f",
   "metadata": {
    "collapsed": true
   },
   "outputs": [
    {
     "name": "stdout",
     "output_type": "stream",
     "text": [
      "7\n",
      "1 2 1 3 1 2 1\n",
      "4\n",
      "1 3\n",
      "1\n",
      "2 5\n",
      "0\n",
      "3 3\n",
      "1\n",
      "5 7\n",
      "1\n"
     ]
    }
   ],
   "source": [
    "#10942\n",
    "\n",
    "def Pd():\n",
    "    i, j = list(map(int,input().split()))\n",
    "    num = ''.join(lst[i-1:j])\n",
    "    \n",
    "    if num == num[::-1]:\n",
    "        return 1\n",
    "    else:\n",
    "        return 0\n",
    "        \n",
    "n = int(input())\n",
    "lst = list(input().split())\n",
    "\n",
    "t = int(input())\n",
    "for i in range(t):\n",
    "    ans = Pd()\n",
    "    if ans == 1:\n",
    "        print(1)\n",
    "    else: print(0)"
   ]
  },
  {
   "cell_type": "markdown",
   "id": "8554c7bf",
   "metadata": {},
   "source": [
    "## 2) Array"
   ]
  },
  {
   "cell_type": "markdown",
   "id": "8f64da85",
   "metadata": {},
   "source": [
    "### 2-1) 두 수의 합 (LeetCode : 1)"
   ]
  },
  {
   "cell_type": "code",
   "execution_count": 59,
   "id": "59321c19",
   "metadata": {},
   "outputs": [
    {
     "name": "stdout",
     "output_type": "stream",
     "text": [
      "[0, 1]\n"
     ]
    }
   ],
   "source": [
    "# 1) 브루트 포스로 계산\n",
    "def twoSum(self, nums, target):\n",
    "    for i in range(len(nums)):\n",
    "        for j in range(i+1, len(nums)):\n",
    "            if nums[i] + nums[j] == target:\n",
    "                return [i,j]"
   ]
  },
  {
   "cell_type": "code",
   "execution_count": 71,
   "id": "3c689552",
   "metadata": {},
   "outputs": [
    {
     "name": "stdout",
     "output_type": "stream",
     "text": [
      "[1, 2]\n",
      "[2, 1]\n"
     ]
    }
   ],
   "source": [
    "# 2) 내 풀이 -> [3,3] 과 같은 예외를 잡지 못함\n",
    "nums = [3,2,4]\n",
    "target = 6\n",
    "\n",
    "for num in nums:\n",
    "    if target-num in nums:\n",
    "        if target - num == num :pass\n",
    "        else:\n",
    "            print([nums.index(num), nums.index(target-num)])"
   ]
  },
  {
   "cell_type": "code",
   "execution_count": null,
   "id": "f6924577",
   "metadata": {},
   "outputs": [],
   "source": [
    "#2) In 이용한 탐색\n",
    "def twoSum(self, nums, target):\n",
    "    for i, n in enumerate(nums):\n",
    "        complement = target - n\n",
    "        \n",
    "        if complement in nums[i+1:]: #i+1번째~원소 중에서 뺀 값이 있니?\n",
    "            return nums.index(n), nums[i+1:].index(complement) + (i+1) #i+1번째 원소의 ㅣist에서만 보면 인덱스가 i+1 밀리니까"
   ]
  },
  {
   "cell_type": "code",
   "execution_count": null,
   "id": "4c1379fe",
   "metadata": {},
   "outputs": [],
   "source": [
    "#3) 첫 번째 수를 뺀 결과 키 조회\n",
    "def twoSum(self, nums, target):\n",
    "    nums_map = {}\n",
    "    for i, num in enumerate(nums):\n",
    "        nums_map[num] = i\n",
    "    \n",
    "    for i, num in enumerate(nums):\n",
    "        if target - num in nums_map and i!=nums_map[target-num]:\n",
    "            return nums.index(num), nums_map[target - num]"
   ]
  },
  {
   "cell_type": "code",
   "execution_count": null,
   "id": "4854696f",
   "metadata": {},
   "outputs": [],
   "source": [
    "#4) 조회 구조 개선\n",
    "def twoSum(self, nums, target):\n",
    "    nums_map = {}\n",
    "    for i , num in enumerate(nums):\n",
    "        if target - num in nums_map:\n",
    "            return [nums_map[target-num], i] #target-num이 이미 있는 상황이니까 해당 값이 앞에 오는 시스템\n",
    "        nums_map[num] = i"
   ]
  },
  {
   "cell_type": "code",
   "execution_count": null,
   "id": "429b1269",
   "metadata": {},
   "outputs": [],
   "source": [
    "#5) 투 포인터 이용 -> 입력이 정렬이 되지 않으면 의미 없음 + 정렬을 하면 인덱스가 망가져서 안돼\n",
    "def twoSum(self, nums, target):\n",
    "    left, right = 0, len(nums)-1\n",
    "    while not left == right:\n",
    "        if nums[left] + nums[right] < target:\n",
    "            left+=1\n",
    "        elif nums[left] + nums[right] > target:\n",
    "            righ+=1\n",
    "        else:\n",
    "            return left, right"
   ]
  },
  {
   "cell_type": "markdown",
   "id": "e7a11f1b",
   "metadata": {},
   "source": [
    "### 2-2) 빗물 트래핑 (LeetCode : 42)"
   ]
  },
  {
   "cell_type": "code",
   "execution_count": null,
   "id": "8817ef1e",
   "metadata": {},
   "outputs": [],
   "source": [
    "# 1) 투 포인터를 최대로 이동\n",
    "def trap(self, height):\n",
    "    if not height:\n",
    "        return 0\n",
    "    \n",
    "    volume = 0\n",
    "    left, right = 0, len(height)-1\n",
    "    left_max, right_max = height[left], height[right]\n",
    "    \n",
    "    while left < right:\n",
    "        left_max, right_max = max(height[left], left_max), max(height[right], right_max)\n",
    "        \n",
    "        if left_max < right_max:\n",
    "            volume += left_max - height[left]\n",
    "            left += 1\n",
    "        else:\n",
    "            volume += right_max - height[right]\n",
    "            right -= 1\n",
    "        \n",
    "        return volume"
   ]
  },
  {
   "cell_type": "markdown",
   "id": "b9a7540f",
   "metadata": {},
   "source": [
    "### 2-4) 배열 파티션 1 (LeetCode : 561)"
   ]
  },
  {
   "cell_type": "code",
   "execution_count": 31,
   "id": "a370d495",
   "metadata": {},
   "outputs": [
    {
     "name": "stdout",
     "output_type": "stream",
     "text": [
      "[1, 4, 3, 2]\n"
     ]
    }
   ],
   "source": [
    "#직접 작성한 코드\n",
    "def arrayPairSum(self, nums):\n",
    "    nums = eval(input())\n",
    "    nums.sort(reverse=True)\n",
    "    res = 0\n",
    "    for i in range(0,len(nums),2):\n",
    "        res += min(nums[i],nums[i+1])\n",
    "    return res"
   ]
  },
  {
   "cell_type": "code",
   "execution_count": null,
   "id": "f9655864",
   "metadata": {},
   "outputs": [],
   "source": [
    "# 1) 오름차순 풀이\n",
    "def arrayPairSum(self, nums):\n",
    "    sum = 0\n",
    "    pair = []\n",
    "    nums.sort() #오름차순 정렬\n",
    "    \n",
    "    for n in nums:\n",
    "        pair.append(n)\n",
    "        if len(pair) == 2: #길이를 2로 설정함으로서 Pair를 만들어준다.\n",
    "            sum += min(pair) #pair의 최소값을 합한다\n",
    "            pair = [] #pair 초기화"
   ]
  },
  {
   "cell_type": "code",
   "execution_count": 43,
   "id": "48c3633e",
   "metadata": {},
   "outputs": [],
   "source": [
    "# 2) 짝수번째 값 계산\n",
    "def arrayPairSum(self, nums):\n",
    "    sum = 0\n",
    "    nums.sort()\n",
    "    for i, n in enumerate(nums): #enumerate -> index, value\n",
    "        if i%2 == 0: #짝수\n",
    "            sum += n\n",
    "    return sum"
   ]
  },
  {
   "cell_type": "code",
   "execution_count": null,
   "id": "f5758038",
   "metadata": {},
   "outputs": [],
   "source": [
    "# 3) Like Python\n",
    "def arrayPairSum(self, nums):\n",
    "    return sum(sorted(nums)[::2])"
   ]
  },
  {
   "cell_type": "markdown",
   "id": "bbe2628e",
   "metadata": {},
   "source": [
    "### 2-5) 자신을 제외한 배열의 곱 (LeetCode : 238)"
   ]
  },
  {
   "cell_type": "code",
   "execution_count": 48,
   "id": "dd2998b8",
   "metadata": {},
   "outputs": [],
   "source": [
    "# 나눗셈을 했을 때 코드\n",
    "nums = [1,2,3,4]\n",
    "res = 1\n",
    "f_res = []\n",
    "for i in range(len(nums)):\n",
    "    res = res * nums[i]\n",
    "for i in range(len(nums)):\n",
    "    f_res.append(int(res/nums[i]))"
   ]
  },
  {
   "cell_type": "code",
   "execution_count": 49,
   "id": "a19ed0e1",
   "metadata": {},
   "outputs": [
    {
     "data": {
      "text/plain": [
       "[24, 12, 8, 6]"
      ]
     },
     "execution_count": 49,
     "metadata": {},
     "output_type": "execute_result"
    }
   ],
   "source": [
    "# 1) 왼쪽 곱셈 결과에 오른쪽 값을 차례대로 곱셈\n",
    "def productExceptSelf(self, nums):\n",
    "    out = []\n",
    "    p = 1\n",
    "    \n",
    "    for i in range(len(nums)): #왼쪽 기준으로 곱셈을 시행\n",
    "        out.append(p)\n",
    "        p = p * nums[i]\n",
    "    \n",
    "    p = 1\n",
    "\n",
    "    for i in range(len(nums)-1,-1,-1):\n",
    "        out[i] = out[i] * p\n",
    "        p = p * nums[i]\n",
    "    return out"
   ]
  },
  {
   "cell_type": "markdown",
   "id": "a2bb8075",
   "metadata": {},
   "source": [
    "### 2-6) 주식을 사고팔기 가장 좋은 시점 (LeetCode : 121)"
   ]
  },
  {
   "cell_type": "code",
   "execution_count": 52,
   "id": "4376160a",
   "metadata": {},
   "outputs": [
    {
     "name": "stdout",
     "output_type": "stream",
     "text": [
      "5\n"
     ]
    }
   ],
   "source": [
    "#1) 브루트 포스 -> 실패\n",
    "prices = [7,1,5,3,6,4]\n",
    "res = 0\n",
    "\n",
    "for i in range(len(prices)):\n",
    "    for j in range(i,len(prices)):\n",
    "        res = max(res, prices[j]-prices[i])\n",
    "print(res)"
   ]
  },
  {
   "cell_type": "code",
   "execution_count": null,
   "id": "dee8b135",
   "metadata": {},
   "outputs": [],
   "source": [
    "#2) 브루트 포스 -> 실패\n",
    "def maxProfit(self, prices):\n",
    "    max_price = 0\n",
    "    \n",
    "    for i, price in enumerate(prices):\n",
    "        for j in range(i,len(prices)): #i부터 인게 point\n",
    "            max_price = max(prices[j] - price, max_price)\n",
    "            \n",
    "    return max_price"
   ]
  },
  {
   "cell_type": "code",
   "execution_count": null,
   "id": "fd8f5f28",
   "metadata": {},
   "outputs": [],
   "source": [
    "#3) 저점과 현재 값과의 차이 계산\n",
    "def maxProfit(self, prices):\n",
    "    profit = 0\n",
    "    min_price = sys.maxsize\n",
    "    \n",
    "    for price in prices:\n",
    "        min_price = min(min_price, price)\n",
    "        profit = max(profit, price - min_price)\n",
    "    \n",
    "    return profit"
   ]
  },
  {
   "cell_type": "markdown",
   "id": "884dd140",
   "metadata": {},
   "source": [
    "## 3) Linked list"
   ]
  },
  {
   "cell_type": "markdown",
   "id": "22e6e2c8",
   "metadata": {},
   "source": [
    "### 3-1) 팰린드롬 연결 리스트 (LeetCode : 234)"
   ]
  },
  {
   "cell_type": "code",
   "execution_count": 6,
   "id": "0b94a79d",
   "metadata": {},
   "outputs": [],
   "source": [
    "# 내 풀이 : Linked List를 고려하지 않은 풀이로 오류\n",
    "head = [1,2,2,1]\n",
    "\n",
    "def isPalindrome(self, head):\n",
    "    res = ''\n",
    "    for x in head:\n",
    "        res += str(x)\n",
    "    if res == res[::-1]:\n",
    "        return True\n",
    "    else:\n",
    "        return False"
   ]
  },
  {
   "cell_type": "code",
   "execution_count": 7,
   "id": "e829fe5b",
   "metadata": {},
   "outputs": [],
   "source": [
    "# 1) 리스트 변환\n",
    "\n",
    "def isPalindrome(head):\n",
    "    q = []\n",
    "    \n",
    "    if not head: #빈 리스트 -> True 반환\n",
    "        True\n",
    "    \n",
    "    node = head\n",
    "    \n",
    "    while node is not None:\n",
    "        q.append(node.val) #현재 항목\n",
    "        node = node.next # 다음 노드\n",
    "    \n",
    "    while len(q) > 1 :\n",
    "        if q.pop(0) != q.pop():\n",
    "            return False\n",
    "    return True"
   ]
  },
  {
   "cell_type": "code",
   "execution_count": null,
   "id": "83d7f3c9",
   "metadata": {},
   "outputs": [],
   "source": [
    "#2) Deque를 이용한 최적화\n",
    "import collections\n",
    "\n",
    "def isPalindrome(head):\n",
    "    q = collections.deque()\n",
    "    \n",
    "    if not head: #빈 리스트 -> True 반환\n",
    "        True\n",
    "    \n",
    "    node = head\n",
    "    \n",
    "    while node is not None:\n",
    "        q.append(node.val) #현재 항목\n",
    "        node = node.next # 다음 노드\n",
    "    \n",
    "    while len(q) > 1 :\n",
    "        if q.popleft() != q.pop():\n",
    "            return False\n",
    "    return True"
   ]
  },
  {
   "cell_type": "code",
   "execution_count": null,
   "id": "c165e9a9",
   "metadata": {},
   "outputs": [],
   "source": [
    "#3 ) Runner\n",
    "\n",
    "def isPalindrome(self, head):\n",
    "    rev = None\n",
    "    slow = fast = head\n",
    "    \n",
    "    while fast and fast.next:\n",
    "        fast = fast.next.next\n",
    "        rev, rev.next, slow = slow, rev, slow.next\n",
    "        \n",
    "    if fast:\n",
    "        slow = slow.next\n",
    "        \n",
    "    while rev and rev.val == slow.val :\n",
    "        slow, rev = slow.next, rev.next\n",
    "    \n",
    "    return not rev"
   ]
  },
  {
   "cell_type": "markdown",
   "id": "e59fa14f",
   "metadata": {},
   "source": [
    "### 3-2) 역순 연결 리스트 (LeetCode : 206)"
   ]
  },
  {
   "cell_type": "code",
   "execution_count": null,
   "id": "3d212d55",
   "metadata": {},
   "outputs": [],
   "source": [
    "# 1) 재귀 구조로 뒤집기\n",
    "def reverseList(self, head):\n",
    "    def reverse(node, prev = None):\n",
    "        if not node:\n",
    "            return prev\n",
    "        \n",
    "        next, node.next = node.next, prev\n",
    "        return reverse(next, node)\n",
    "    return reverse(head)"
   ]
  },
  {
   "cell_type": "code",
   "execution_count": null,
   "id": "f7f5a816",
   "metadata": {},
   "outputs": [],
   "source": [
    "# 2) 반복 구조로 뒤집기\n",
    "def reverseList(self, head):\n",
    "    node, prev = head, None\n",
    "    \n",
    "    while node:\n",
    "        next, node.next = node.next, prev\n",
    "        prev, node = node, next\n",
    "    \n",
    "    return prev"
   ]
  }
 ],
 "metadata": {
  "kernelspec": {
   "display_name": "Python 3 (ipykernel)",
   "language": "python",
   "name": "python3"
  },
  "language_info": {
   "codemirror_mode": {
    "name": "ipython",
    "version": 3
   },
   "file_extension": ".py",
   "mimetype": "text/x-python",
   "name": "python",
   "nbconvert_exporter": "python",
   "pygments_lexer": "ipython3",
   "version": "3.9.7"
  }
 },
 "nbformat": 4,
 "nbformat_minor": 5
}
