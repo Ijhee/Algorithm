{
 "cells": [
  {
   "cell_type": "markdown",
   "id": "a983856b",
   "metadata": {},
   "source": [
    "### 1) 문자열 조작"
   ]
  },
  {
   "cell_type": "markdown",
   "id": "b026eb0f",
   "metadata": {},
   "source": [
    "#### 1-1) 유효한 팰린드롬"
   ]
  },
  {
   "cell_type": "code",
   "execution_count": 33,
   "id": "74f754bf",
   "metadata": {},
   "outputs": [],
   "source": [
    "#1 )list로 변환\n",
    "s = \"A man, a plan, a canal: Panama\"\n",
    "\n",
    "def isPalindrome(s):\n",
    "    strs = []\n",
    "    for char in s:\n",
    "        if char.isalnum(): #isalnum : 숫자나 영어로 문자열이 구성되어 있으면 True 반환\n",
    "            strs.append(char.lower())\n",
    "\n",
    "    while len(strs) > 1:\n",
    "        if strs.pop(0) != strs.pop(): #pop에 인자를 넣지 않으면 마지막 원소 배출\n",
    "            return False\n",
    "    return True"
   ]
  },
  {
   "cell_type": "code",
   "execution_count": 61,
   "id": "900bbf6f",
   "metadata": {},
   "outputs": [],
   "source": [
    "#2 ) Deque\n",
    "import collections\n",
    "\n",
    "s = \"A man, a plan, a canal: Panama\"\n",
    "\n",
    "def isPalindrome(s) -> bool:\n",
    "    strs = collections.deque()\n",
    "    \n",
    "    for char in s:\n",
    "        if char.isalnum():\n",
    "            strs.append(char.lower())\n",
    "            \n",
    "    while len(strs) > 1:\n",
    "        if strs.popleft() != strs.pop(): #pop에 인자를 넣지 않으면 마지막 원소 배출\n",
    "            return False\n",
    "    return True"
   ]
  },
  {
   "cell_type": "code",
   "execution_count": 75,
   "id": "442614fb",
   "metadata": {},
   "outputs": [],
   "source": [
    "# 3) Slicing\n",
    "\n",
    "import re\n",
    "\n",
    "s = \"A man, a plan, a canal: Panama\"\n",
    "\n",
    "def isPalindrome(s):\n",
    "    s = s.lower()\n",
    "    \n",
    "    s = re.sub('[^a-z0-9]', '', s)\n",
    "    \n",
    "    return s == s[::-1]"
   ]
  },
  {
   "cell_type": "markdown",
   "id": "1dadefd4",
   "metadata": {},
   "source": [
    "#### 1-2 ) 문자열 뒤집기"
   ]
  },
  {
   "cell_type": "code",
   "execution_count": 19,
   "id": "302aab4d",
   "metadata": {},
   "outputs": [],
   "source": [
    "#1) 투 포인터를 이용한 스왑\n",
    "\n",
    "def reverseString():\n",
    "    s = list(map(str,input()))\n",
    "    left, right = 0, len(s)-1\n",
    "    \n",
    "    while left < right :\n",
    "        s[left], s[right] = s[right], s[left]\n",
    "        left += 1\n",
    "        right -= 1\n",
    "        \n",
    "    return s"
   ]
  },
  {
   "cell_type": "code",
   "execution_count": null,
   "id": "354f10cf",
   "metadata": {},
   "outputs": [],
   "source": [
    "#2) Reverse\n",
    "\n",
    "s = [\"h\",\"e\",\"l\",\"l\",\"o\"]\n",
    "\n",
    "def reverseString(s):\n",
    "    s.reverse()"
   ]
  },
  {
   "cell_type": "markdown",
   "id": "2950a384",
   "metadata": {},
   "source": [
    "#### 1-3) 로그파일 재정렬"
   ]
  },
  {
   "cell_type": "markdown",
   "id": "d97ceed2",
   "metadata": {},
   "source": [
    "1. 로그의 가장 앞 부분은 식별자다. </br>\n",
    "2. 문자로 구성된 로그가 숫자 로그보다 앞에 온다.</br>\n",
    "3. 식별자는 순서에 영향을 끼치지 않지만, 문자가 동일할 경우 식별자 순으로 한다.</br>\n",
    "4. 숫자 로그는 입력 순서대로 한다.</br>"
   ]
  },
  {
   "cell_type": "code",
   "execution_count": 105,
   "id": "8da0bca4",
   "metadata": {},
   "outputs": [],
   "source": [
    "#1) lambda 와 연산자 이용\n",
    "\n",
    "logs = [\"dig1 8 1 5 1\", \"let1 art can\", \"let2 own kit dig\", \"let3 art zero\"]\n",
    "\n",
    "def reorderLog(logs):\n",
    "    letters, digits = [], []\n",
    "    for log in logs:\n",
    "        if log.split()[1].isdigit():\n",
    "            digits.append(log)\n",
    "        else:\n",
    "            letters.append(log)\n",
    "    \n",
    "    letters.sort(key = lambda x : (x.split()[1:], x.split()[0]))\n",
    "    \n",
    "    return letters + digits"
   ]
  },
  {
   "cell_type": "markdown",
   "id": "9ca2f5b4",
   "metadata": {},
   "source": [
    "#### 1-4) 가장 흔한 단어"
   ]
  },
  {
   "cell_type": "code",
   "execution_count": 140,
   "id": "e2a8fe38",
   "metadata": {},
   "outputs": [],
   "source": [
    "#1) 정규표현식, counter\n",
    "\n",
    "paragraph = \"Bob hit a ball, the hit BALL flew far after it was hit\"\n",
    "banned = [\"hit\"]\n",
    "    \n",
    "def mostCommon(paragraph, banned):\n",
    "\n",
    "    words = [word for word in re.sub(r'[^\\w]', ' ', paragraph).lower().split() if word not in banned]\n",
    "\n",
    "    counts = collections.Counter(words)\n",
    "\n",
    "    return counts.most_common(1)[0][0]"
   ]
  },
  {
   "cell_type": "markdown",
   "id": "811d87f9",
   "metadata": {},
   "source": [
    "#### 1-5) 그룹 애너그램"
   ]
  },
  {
   "cell_type": "code",
   "execution_count": 152,
   "id": "9f3eeb37",
   "metadata": {},
   "outputs": [],
   "source": [
    "#1) 정렬하여 dictionary에 추가\n",
    "\n",
    "strs = [\"eat\",\"tea\",\"tan\",\"ate\",\"nat\",\"bat\"]\n",
    "\n",
    "def groupAnagrams(strs):\n",
    "    anagrams = collections.defaultdict(list) #key에 value가 없을 경우 0의 값을 저장\n",
    "    \n",
    "    for word in strs:\n",
    "        anagrams[''.join(sorted(word))].append(word)\n",
    "    return anagrams.values()"
   ]
  },
  {
   "cell_type": "markdown",
   "id": "eb081efc",
   "metadata": {},
   "source": [
    "#### 1-6) 가장 긴 팰린드롬 부분 문자열"
   ]
  },
  {
   "cell_type": "code",
   "execution_count": 158,
   "id": "6a346361",
   "metadata": {},
   "outputs": [],
   "source": [
    "#1) 중앙을 중심으로 확장하는 풀이\n",
    "\n",
    "s = 'babad'\n",
    "\n",
    "def longestPalindrome(s):\n",
    "    def expand(left, right):\n",
    "        while left >= 0 and right <= len(s) and s[left] == s[right-1]:\n",
    "            left -= 1\n",
    "            right += 1\n",
    "        return s[left + 1 : right -1]\n",
    "    \n",
    "    if len(s) < 2 or s == s[::-1]:\n",
    "        return s\n",
    "    \n",
    "    result = ''\n",
    "    for i in range(len(s)-1):\n",
    "        result = max(result, expand(i, i+1), expand(i, i+2), key = len) # 기존 결과, 2칸, 3칸\n",
    "    \n",
    "    return result"
   ]
  },
  {
   "cell_type": "markdown",
   "id": "43dca95c",
   "metadata": {},
   "source": [
    "### 관련 백준 문제 </br>\n",
    "**팰린드롬**  </br></br>\n",
    "10988 팰린드롬인지 확인하기 (https://www.acmicpc.net/problem/10988)</br>\n",
    "1259 팰린드롬수 (https://www.acmicpc.net/problem/1259)</br>\n",
    "8892 팰린드롬 (https://www.acmicpc.net/problem/8892)</br>\n",
    "10942 팰린드롬? (https://www.acmicpc.net/problem/10942)</br></br>\n",
    "\n",
    "**문자열 뒤집기**</br></br>\n",
    "9093 단어뒤집기(https://www.acmicpc.net/problem/9093)</br>\n",
    "3062 수 뒤집기(https://www.acmicpc.net/problem/3062)</br>\n",
    "1439 뒤집기 (https://www.acmicpc.net/problem/1439)</br>\n",
    "17431 단어뒤집기 (https://www.acmicpc.net/problem/17413)</br></br>\n",
    "\n",
    "**애너그램**</br></br>\n",
    "1919 애너그램 만들기 (https://www.acmicpc.net/problem/1919)</br>\n",
    "6996 애너그램 (https://www.acmicpc.net/problem/6996)</br>\n"
   ]
  },
  {
   "cell_type": "code",
   "execution_count": 162,
   "id": "c3316e2d",
   "metadata": {},
   "outputs": [
    {
     "name": "stdout",
     "output_type": "stream",
     "text": [
      "baekjoon\n",
      "0\n"
     ]
    }
   ],
   "source": [
    "#10988\n",
    "s = input()\n",
    "\n",
    "if s == s[::-1]:\n",
    "    print(1)\n",
    "else:\n",
    "    print(0)"
   ]
  },
  {
   "cell_type": "code",
   "execution_count": 173,
   "id": "df435e67",
   "metadata": {
    "scrolled": true
   },
   "outputs": [
    {
     "name": "stdout",
     "output_type": "stream",
     "text": [
      "0\n"
     ]
    }
   ],
   "source": [
    "#1259\n",
    "while True:\n",
    "    N=int(input())\n",
    "    str_N=list(str(N))\n",
    "    if N != 0:\n",
    "        if str_N == str_N[::-1]:\n",
    "            print('yes')\n",
    "        else:\n",
    "            print('no')\n",
    "    else:\n",
    "        break"
   ]
  },
  {
   "cell_type": "code",
   "execution_count": null,
   "id": "fb1dbc2d",
   "metadata": {},
   "outputs": [],
   "source": [
    "#8892\n",
    "def Palindrom():\n",
    "    n = int(input())\n",
    "    lst = [input() for _ in range(n)]\n",
    "    \n",
    "    for i in range(n):\n",
    "        for j in range(n):\n",
    "            if i != j:\n",
    "                s = lst[i] + lst[j]\n",
    "                if s == s[::-1]:\n",
    "                    return s\n",
    "    return 0\n",
    "\n",
    "T = int(input())\n",
    "\n",
    "for _ in range(T):\n",
    "    ans = Palindrom()\n",
    "    print(0) if ans == 0 else print(ans)"
   ]
  },
  {
   "cell_type": "code",
   "execution_count": 239,
   "id": "42ce686f",
   "metadata": {
    "collapsed": true
   },
   "outputs": [
    {
     "name": "stdout",
     "output_type": "stream",
     "text": [
      "7\n",
      "1 2 1 3 1 2 1\n",
      "4\n",
      "1 3\n",
      "1\n",
      "2 5\n",
      "0\n",
      "3 3\n",
      "1\n",
      "5 7\n",
      "1\n"
     ]
    }
   ],
   "source": [
    "#10942\n",
    "\n",
    "def Pd():\n",
    "    i, j = list(map(int,input().split()))\n",
    "    num = ''.join(lst[i-1:j])\n",
    "    \n",
    "    if num == num[::-1]:\n",
    "        return 1\n",
    "    else:\n",
    "        return 0\n",
    "        \n",
    "n = int(input())\n",
    "lst = list(input().split())\n",
    "\n",
    "t = int(input())\n",
    "for i in range(t):\n",
    "    ans = Pd()\n",
    "    if ans == 1:\n",
    "        print(1)\n",
    "    else: print(0)"
   ]
  },
  {
   "cell_type": "markdown",
   "id": "8554c7bf",
   "metadata": {},
   "source": [
    "## 2) Array"
   ]
  },
  {
   "cell_type": "markdown",
   "id": "8f64da85",
   "metadata": {},
   "source": [
    "### 2-1) 두 수의 합 (LeetCode : 1)"
   ]
  },
  {
   "cell_type": "code",
   "execution_count": 59,
   "id": "59321c19",
   "metadata": {},
   "outputs": [
    {
     "name": "stdout",
     "output_type": "stream",
     "text": [
      "[0, 1]\n"
     ]
    }
   ],
   "source": [
    "# 1) 브루트 포스로 계산\n",
    "def twoSum(self, nums, target):\n",
    "    for i in range(len(nums)):\n",
    "        for j in range(i+1, len(nums)):\n",
    "            if nums[i] + nums[j] == target:\n",
    "                return [i,j]"
   ]
  },
  {
   "cell_type": "code",
   "execution_count": 71,
   "id": "3c689552",
   "metadata": {},
   "outputs": [
    {
     "name": "stdout",
     "output_type": "stream",
     "text": [
      "[1, 2]\n",
      "[2, 1]\n"
     ]
    }
   ],
   "source": [
    "# 2) 내 풀이 -> [3,3] 과 같은 예외를 잡지 못함\n",
    "nums = [3,2,4]\n",
    "target = 6\n",
    "\n",
    "for num in nums:\n",
    "    if target-num in nums:\n",
    "        if target - num == num :pass\n",
    "        else:\n",
    "            print([nums.index(num), nums.index(target-num)])"
   ]
  },
  {
   "cell_type": "code",
   "execution_count": null,
   "id": "f6924577",
   "metadata": {},
   "outputs": [],
   "source": [
    "#2) In 이용한 탐색\n",
    "def twoSum(self, nums, target):\n",
    "    for i, n in enumerate(nums):\n",
    "        complement = target - n\n",
    "        \n",
    "        if complement in nums[i+1:]: #i+1번째~원소 중에서 뺀 값이 있니?\n",
    "            return nums.index(n), nums[i+1:].index(complement) + (i+1) #i+1번째 원소의 ㅣist에서만 보면 인덱스가 i+1 밀리니까"
   ]
  },
  {
   "cell_type": "code",
   "execution_count": null,
   "id": "4c1379fe",
   "metadata": {},
   "outputs": [],
   "source": [
    "#3) 첫 번째 수를 뺀 결과 키 조회\n",
    "def twoSum(self, nums, target):\n",
    "    nums_map = {}\n",
    "    for i, num in enumerate(nums):\n",
    "        nums_map[num] = i\n",
    "    \n",
    "    for i, num in enumerate(nums):\n",
    "        if target - num in nums_map and i!=nums_map[target-num]:\n",
    "            return nums.index(num), nums_map[target - num]"
   ]
  },
  {
   "cell_type": "code",
   "execution_count": null,
   "id": "4854696f",
   "metadata": {},
   "outputs": [],
   "source": [
    "#4) 조회 구조 개선\n",
    "def twoSum(self, nums, target):\n",
    "    nums_map = {}\n",
    "    for i , num in enumerate(nums):\n",
    "        if target - num in nums_map:\n",
    "            return [nums_map[target-num], i] #target-num이 이미 있는 상황이니까 해당 값이 앞에 오는 시스템\n",
    "        nums_map[num] = i"
   ]
  },
  {
   "cell_type": "code",
   "execution_count": null,
   "id": "429b1269",
   "metadata": {},
   "outputs": [],
   "source": [
    "#5) 투 포인터 이용 -> 입력이 정렬이 되지 않으면 의미 없음 + 정렬을 하면 인덱스가 망가져서 안돼\n",
    "def twoSum(self, nums, target):\n",
    "    left, right = 0, len(nums)-1\n",
    "    while not left == right:\n",
    "        if nums[left] + nums[right] < target:\n",
    "            left+=1\n",
    "        elif nums[left] + nums[right] > target:\n",
    "            righ+=1\n",
    "        else:\n",
    "            return left, right"
   ]
  },
  {
   "cell_type": "markdown",
   "id": "e7a11f1b",
   "metadata": {},
   "source": [
    "### 2-2) 빗물 트래핑 (LeetCode : 42)"
   ]
  },
  {
   "cell_type": "code",
   "execution_count": null,
   "id": "8817ef1e",
   "metadata": {},
   "outputs": [],
   "source": [
    "# 1) 투 포인터를 최대로 이동\n",
    "def trap(self, height):\n",
    "    if not height:\n",
    "        return 0\n",
    "    \n",
    "    volume = 0\n",
    "    left, right = 0, len(height)-1\n",
    "    left_max, right_max = height[left], height[right]\n",
    "    \n",
    "    while left < right:\n",
    "        left_max, right_max = max(height[left], left_max), max(height[right], right_max)\n",
    "        \n",
    "        if left_max < right_max:\n",
    "            volume += left_max - height[left]\n",
    "            left += 1\n",
    "        else:\n",
    "            volume += right_max - height[right]\n",
    "            right -= 1\n",
    "        \n",
    "        return volume"
   ]
  },
  {
   "cell_type": "markdown",
   "id": "b9a7540f",
   "metadata": {},
   "source": [
    "### 2-4) 배열 파티션 1 (LeetCode : 561)"
   ]
  },
  {
   "cell_type": "code",
   "execution_count": 31,
   "id": "a370d495",
   "metadata": {},
   "outputs": [
    {
     "name": "stdout",
     "output_type": "stream",
     "text": [
      "[1, 4, 3, 2]\n"
     ]
    }
   ],
   "source": [
    "#직접 작성한 코드\n",
    "def arrayPairSum(self, nums):\n",
    "    nums = eval(input())\n",
    "    nums.sort(reverse=True)\n",
    "    res = 0\n",
    "    for i in range(0,len(nums),2):\n",
    "        res += min(nums[i],nums[i+1])\n",
    "    return res"
   ]
  },
  {
   "cell_type": "code",
   "execution_count": null,
   "id": "f9655864",
   "metadata": {},
   "outputs": [],
   "source": [
    "# 1) 오름차순 풀이\n",
    "def arrayPairSum(self, nums):\n",
    "    sum = 0\n",
    "    pair = []\n",
    "    nums.sort() #오름차순 정렬\n",
    "    \n",
    "    for n in nums:\n",
    "        pair.append(n)\n",
    "        if len(pair) == 2: #길이를 2로 설정함으로서 Pair를 만들어준다.\n",
    "            sum += min(pair) #pair의 최소값을 합한다\n",
    "            pair = [] #pair 초기화"
   ]
  },
  {
   "cell_type": "code",
   "execution_count": 43,
   "id": "48c3633e",
   "metadata": {},
   "outputs": [],
   "source": [
    "# 2) 짝수번째 값 계산\n",
    "def arrayPairSum(self, nums):\n",
    "    sum = 0\n",
    "    nums.sort()\n",
    "    for i, n in enumerate(nums): #enumerate -> index, value\n",
    "        if i%2 == 0: #짝수\n",
    "            sum += n\n",
    "    return sum"
   ]
  },
  {
   "cell_type": "code",
   "execution_count": null,
   "id": "f5758038",
   "metadata": {},
   "outputs": [],
   "source": [
    "# 3) Like Python\n",
    "def arrayPairSum(self, nums):\n",
    "    return sum(sorted(nums)[::2])"
   ]
  },
  {
   "cell_type": "markdown",
   "id": "bbe2628e",
   "metadata": {},
   "source": [
    "### 2-5) 자신을 제외한 배열의 곱 (LeetCode : 238)"
   ]
  },
  {
   "cell_type": "code",
   "execution_count": 48,
   "id": "dd2998b8",
   "metadata": {},
   "outputs": [],
   "source": [
    "# 나눗셈을 했을 때 코드\n",
    "nums = [1,2,3,4]\n",
    "res = 1\n",
    "f_res = []\n",
    "for i in range(len(nums)):\n",
    "    res = res * nums[i]\n",
    "for i in range(len(nums)):\n",
    "    f_res.append(int(res/nums[i]))"
   ]
  },
  {
   "cell_type": "code",
   "execution_count": 49,
   "id": "a19ed0e1",
   "metadata": {},
   "outputs": [
    {
     "data": {
      "text/plain": [
       "[24, 12, 8, 6]"
      ]
     },
     "execution_count": 49,
     "metadata": {},
     "output_type": "execute_result"
    }
   ],
   "source": [
    "# 1) 왼쪽 곱셈 결과에 오른쪽 값을 차례대로 곱셈\n",
    "def productExceptSelf(self, nums):\n",
    "    out = []\n",
    "    p = 1\n",
    "    \n",
    "    for i in range(len(nums)): #왼쪽 기준으로 곱셈을 시행\n",
    "        out.append(p)\n",
    "        p = p * nums[i]\n",
    "    \n",
    "    p = 1\n",
    "\n",
    "    for i in range(len(nums)-1,-1,-1):\n",
    "        out[i] = out[i] * p\n",
    "        p = p * nums[i]\n",
    "    return out"
   ]
  },
  {
   "cell_type": "markdown",
   "id": "a2bb8075",
   "metadata": {},
   "source": [
    "### 2-6) 주식을 사고팔기 가장 좋은 시점 (LeetCode : 121)"
   ]
  },
  {
   "cell_type": "code",
   "execution_count": 52,
   "id": "4376160a",
   "metadata": {},
   "outputs": [
    {
     "name": "stdout",
     "output_type": "stream",
     "text": [
      "5\n"
     ]
    }
   ],
   "source": [
    "#1) 브루트 포스 -> 실패\n",
    "prices = [7,1,5,3,6,4]\n",
    "res = 0\n",
    "\n",
    "for i in range(len(prices)):\n",
    "    for j in range(i,len(prices)):\n",
    "        res = max(res, prices[j]-prices[i])\n",
    "print(res)"
   ]
  },
  {
   "cell_type": "code",
   "execution_count": null,
   "id": "dee8b135",
   "metadata": {},
   "outputs": [],
   "source": [
    "#2) 브루트 포스 -> 실패\n",
    "def maxProfit(self, prices):\n",
    "    max_price = 0\n",
    "    \n",
    "    for i, price in enumerate(prices):\n",
    "        for j in range(i,len(prices)): #i부터 인게 point\n",
    "            max_price = max(prices[j] - price, max_price)\n",
    "            \n",
    "    return max_price"
   ]
  },
  {
   "cell_type": "code",
   "execution_count": null,
   "id": "fd8f5f28",
   "metadata": {},
   "outputs": [],
   "source": [
    "#3) 저점과 현재 값과의 차이 계산\n",
    "def maxProfit(self, prices):\n",
    "    profit = 0\n",
    "    min_price = sys.maxsize\n",
    "    \n",
    "    for price in prices:\n",
    "        min_price = min(min_price, price)\n",
    "        profit = max(profit, price - min_price)\n",
    "    \n",
    "    return profit"
   ]
  },
  {
   "cell_type": "markdown",
   "id": "884dd140",
   "metadata": {},
   "source": [
    "## 3) Linked list"
   ]
  },
  {
   "cell_type": "markdown",
   "id": "e5322ae3",
   "metadata": {},
   "source": [
    "Linked List Definition"
   ]
  },
  {
   "cell_type": "code",
   "execution_count": 1,
   "id": "ab7f0a8b",
   "metadata": {},
   "outputs": [],
   "source": [
    "class Node:\n",
    "    def __init__(self, data):\n",
    "        self.data = data\n",
    "        self.next = None"
   ]
  },
  {
   "cell_type": "code",
   "execution_count": 2,
   "id": "3ea2d258",
   "metadata": {},
   "outputs": [],
   "source": [
    "class LinkedList:\n",
    "    def __init__(self, data): #l1.LinkedList('head') -> self = l1\n",
    "        self.head = Node(data) #Node class에서 data = 'head', next = None인 노드가 생생성\n",
    "    \n",
    "    #헤더부터 탐색해 뒤에 새로운 노드 추가하기\n",
    "    def append(self, data):\n",
    "        cur = self.head\n",
    "        while cur.next is not None:\n",
    "            cur = cur.next\n",
    "        cur.next = Node(data)\n",
    "    \n",
    "    #모든 노드 값 출력\n",
    "    def print_all(self): #l1.print_all()하면 실행\n",
    "        cur = self.head\n",
    "        while cur is not None:\n",
    "            print(cur.data, '-> ', end = '')\n",
    "            cur = cur.next\n",
    "                \n",
    "    def get_node(self, index):\n",
    "        cnt = 0\n",
    "        node = self.head\n",
    "        while cnt < index:\n",
    "            cnt += 1\n",
    "            node = node.next\n",
    "        print(node.data)\n",
    "        return node\n",
    "    \n",
    "    def add_node(self, index, value):\n",
    "        new_node = Node(value)\n",
    "        if index == 0:\n",
    "            new_node.next = self.head\n",
    "            self.head = new_node\n",
    "            return\n",
    "        node = self.get_node(index-1)\n",
    "        next_node = node.next\n",
    "        node.next = new_node\n",
    "        new_node.next = next_node"
   ]
  },
  {
   "cell_type": "code",
   "execution_count": null,
   "id": "af0db85a",
   "metadata": {},
   "outputs": [],
   "source": [
    "# Definition for singly-linked list.\n",
    "class LinkedList:\n",
    "    def __init__(self, val=0, next=None):\n",
    "        HeadNode = Node(\"head\")\n",
    "        self.head = HeadNode\n",
    "        self.tail = HeadNode\n",
    "        self.NumOfData = 0 \n",
    "    def InsertNode(self, data):\n",
    "        insertNode = Node(data) #노드가 하나 생성\n",
    "        self.tail.next = insertNode\n",
    "        self.tail = insertNode\n",
    "        self.NumOfData += 1\n",
    "    def search(self, data):\n",
    "        check = self.head\n",
    "        for i in range(self.NumOfData):\n",
    "            if check.next.data == data:\n",
    "                print(data, \"데이터는\", i+1, \"번째에 있습니다.\")\n",
    "                return None\n",
    "            check = chech.next\n",
    "        print(data, \"데이터는 리스트에 없습니다.\")\n",
    "        return None\n",
    "    def printList(self):\n",
    "        current = self.head\n",
    "        if self.NumOfData == 0:\n",
    "            print(\"List is empty!\")\n",
    "            return None\n",
    "        print(\"HEAD::\",end='')\n",
    "        for i in range(self.NumOfData-1):\n",
    "            print(current.next.data,\"->\",end='')\n",
    "            current = current.next\n",
    "        print(current.next.data)"
   ]
  },
  {
   "cell_type": "markdown",
   "id": "22e6e2c8",
   "metadata": {},
   "source": [
    "### 3-1) 팰린드롬 연결 리스트 (LeetCode : 234)"
   ]
  },
  {
   "cell_type": "code",
   "execution_count": 6,
   "id": "0b94a79d",
   "metadata": {},
   "outputs": [],
   "source": [
    "# 내 풀이 : Linked List를 고려하지 않은 풀이로 오류\n",
    "head = [1,2,2,1]\n",
    "\n",
    "def isPalindrome(self, head):\n",
    "    res = ''\n",
    "    for x in head:\n",
    "        res += str(x)\n",
    "    if res == res[::-1]:\n",
    "        return True\n",
    "    else:\n",
    "        return False"
   ]
  },
  {
   "cell_type": "code",
   "execution_count": 7,
   "id": "e829fe5b",
   "metadata": {},
   "outputs": [],
   "source": [
    "# 1) 리스트 변환\n",
    "\n",
    "def isPalindrome(head):\n",
    "    q = []\n",
    "    \n",
    "    if not head: #빈 리스트 -> True 반환\n",
    "        True\n",
    "    \n",
    "    node = head\n",
    "    \n",
    "    while node is not None:\n",
    "        q.append(node.val) #현재 항목\n",
    "        node = node.next # 다음 노드\n",
    "    \n",
    "    while len(q) > 1 :\n",
    "        if q.pop(0) != q.pop():\n",
    "            return False\n",
    "    return True"
   ]
  },
  {
   "cell_type": "code",
   "execution_count": null,
   "id": "83d7f3c9",
   "metadata": {},
   "outputs": [],
   "source": [
    "#2) Deque를 이용한 최적화\n",
    "import collections\n",
    "\n",
    "def isPalindrome(head):\n",
    "    q = collections.deque()\n",
    "    \n",
    "    if not head: #빈 리스트 -> True 반환\n",
    "        True\n",
    "    \n",
    "    node = head\n",
    "    \n",
    "    while node is not None:\n",
    "        q.append(node.val) #현재 항목\n",
    "        node = node.next # 다음 노드\n",
    "    \n",
    "    while len(q) > 1 :\n",
    "        if q.popleft() != q.pop():\n",
    "            return False\n",
    "    return True"
   ]
  },
  {
   "cell_type": "code",
   "execution_count": null,
   "id": "013c01d0",
   "metadata": {},
   "outputs": [],
   "source": [
    "#3 ) Runner\n",
    "\n",
    "def isPalindrome(self, head):\n",
    "    rev = None\n",
    "    slow = fast = head\n",
    "    \n",
    "    while fast and fast.next:\n",
    "        fast = fast.next.next\n",
    "        rev, rev.next, slow = slow, rev, slow.next\n",
    "        \n",
    "    if fast:\n",
    "        slow = slow.next\n",
    "        \n",
    "    while rev and rev.val == slow.val :\n",
    "        slow, rev = slow.next, rev.next\n",
    "    \n",
    "    return not rev"
   ]
  },
  {
   "cell_type": "code",
   "execution_count": 1,
   "id": "108a2dec",
   "metadata": {},
   "outputs": [],
   "source": [
    "a = 2 #rev\n",
    "b = 3 #slow\n",
    "c = 0 #rev.next\n",
    "a, c, b = b, a, 4"
   ]
  },
  {
   "cell_type": "code",
   "execution_count": 11,
   "id": "8dccc553",
   "metadata": {},
   "outputs": [],
   "source": [
    "rev = [22]\n",
    "if not rev:\n",
    "    print('s')"
   ]
  },
  {
   "cell_type": "markdown",
   "id": "e6c3610d",
   "metadata": {},
   "source": [
    "### 3-2) 두 정렬 리스트의 병합 (LeetCode : 21)"
   ]
  },
  {
   "cell_type": "code",
   "execution_count": null,
   "id": "e7baf7d2",
   "metadata": {},
   "outputs": [],
   "source": [
    "def mergetTwoLists(self, l1, l2):\n",
    "    if (not l1) or (l2 and l1.val > l2.val):\n",
    "        l1, l2 = l2, l1\n",
    "    if l1:\n",
    "        l1.next = self.mergeTwoLists(l1.next, l2)\n",
    "    return l1"
   ]
  },
  {
   "cell_type": "markdown",
   "id": "1169e22f",
   "metadata": {},
   "source": [
    "### 3-3) 역순 연결 리스트 (LeetCode : 206)"
   ]
  },
  {
   "cell_type": "code",
   "execution_count": null,
   "id": "155a9acc",
   "metadata": {},
   "outputs": [],
   "source": [
    "# 1) 재귀 구조로 뒤집기\n",
    "def reverseList(self, head):\n",
    "    def reverse(node, prev = None):\n",
    "        if not node:\n",
    "            return prev\n",
    "        \n",
    "        next, node.next = node.next, prev\n",
    "        return reverse(next, node)\n",
    "    return reverse(head)"
   ]
  },
  {
   "cell_type": "code",
   "execution_count": null,
   "id": "5c11eada",
   "metadata": {},
   "outputs": [],
   "source": [
    "# 2) 반복 구조로 뒤집기\n",
    "def reverseList(self, head):\n",
    "    node, prev = head, None\n",
    "    \n",
    "    while node:\n",
    "        next, node.next = node.next, prev\n",
    "        prev, node = node, next\n",
    "    \n",
    "    return prev"
   ]
  },
  {
   "cell_type": "markdown",
   "id": "0d7ae330",
   "metadata": {},
   "source": [
    "### 3-4) 두 수의 덧셈 ( LeetCode : 2 )"
   ]
  },
  {
   "cell_type": "code",
   "execution_count": null,
   "id": "64c35469",
   "metadata": {},
   "outputs": [],
   "source": [
    "# 1) 자료형 변환\n",
    "\n",
    "class Solution:\n",
    "    #연결 리스트 뒤집기\n",
    "    def reverseList(self, head):\n",
    "        node, prev = head, None\n",
    "        \n",
    "        while node:\n",
    "            next, node.next = node.next, prev\n",
    "            node, prev = next, node\n",
    "            \n",
    "        return prev\n",
    "    \n",
    "    #연결 리스트를 파이썬 리스트로 변환\n",
    "    def toList(self, node):\n",
    "        lst = []\n",
    "        while node:\n",
    "            lst.appenend(node.val)\n",
    "            node = node.next\n",
    "        return lst\n",
    "    \n",
    "    #파이썬 리스트를 연결리스트로 변환\n",
    "    def toReversedLinkedList(self, result):\n",
    "        prev = None\n",
    "        for r in result:\n",
    "            node = ListNode(r)\n",
    "            node.next = prev\n",
    "            prev = node\n",
    "        \n",
    "        return node\n",
    "    \n",
    "    #두 연결 리스트의 덧셈\n",
    "    def addTwoNumbers(self, l1, l2):\n",
    "        a = self.toList(self.reverseList(l1)) #[3,4,2]\n",
    "        b = self.toList(self.reverseList(l2)) #[4,5,6]\n",
    "        \n",
    "        resultStr = int(''.join(str(e) for e in a)) + int(''.join(str(e) for e in b))\n",
    "        \n",
    "        return self.toReversedLinkedList(str(resultStr))"
   ]
  },
  {
   "cell_type": "markdown",
   "id": "4d6a632b",
   "metadata": {},
   "source": [
    "### 3-5) 페어의 노드 스왑"
   ]
  },
  {
   "cell_type": "code",
   "execution_count": 55,
   "id": "68181995",
   "metadata": {},
   "outputs": [],
   "source": [
    "# 1) 값만 교환\n",
    "\n",
    "def swapPairs(self, head):\n",
    "    curr = head\n",
    "    \n",
    "    curr.val, curr.next.val = curr.next.val, cur.val\n",
    "    curr = curr.next.next\n",
    "    \n",
    "    return head"
   ]
  },
  {
   "cell_type": "code",
   "execution_count": null,
   "id": "ad825837",
   "metadata": {},
   "outputs": [],
   "source": [
    "# 2) 반복 구조로 스왑\n",
    "\n",
    "def swapPairs(self, head):\n",
    "    root = prev = ListNode(None)\n",
    "    \n",
    "    while head and head.next:\n",
    "        \n",
    "        b = head.next\n",
    "        head.next = b.next\n",
    "        b.next = head\n",
    "        \n",
    "        prev.next = b\n",
    "        \n",
    "        head = head.next\n",
    "        prev = prev.next.next\n",
    "    \n",
    "    return root.next #root의 next는 linked list의 초기값임을 알 수 있음."
   ]
  },
  {
   "cell_type": "code",
   "execution_count": null,
   "id": "aa4da700",
   "metadata": {},
   "outputs": [],
   "source": [
    "# 3) 재귀 구조로 스왑\n",
    "def swapPairs(self, head):\n",
    "    \n",
    "    if head and head.next:\n",
    "        p = head.next\n",
    "        head.next = self.swapPairs(p.next) #p.next.next\n",
    "        p.next = head\n",
    "        return p\n",
    "    \n",
    "    return head"
   ]
  },
  {
   "cell_type": "markdown",
   "id": "5452c6f7",
   "metadata": {},
   "source": [
    "### 3-6) 홀짝 연결 리스트 (LeetCode : 328)"
   ]
  },
  {
   "cell_type": "code",
   "execution_count": null,
   "id": "1db7d4ee",
   "metadata": {},
   "outputs": [],
   "source": [
    "def oddEvenList(self, head):\n",
    "    \n",
    "    if head is None: return None\n",
    "    \n",
    "    odd = head\n",
    "    even = head.next\n",
    "    even_head = head.next #첫 번째 짝수의 주소 저장\n",
    "    \n",
    "    while even and even.next :\n",
    "        odd.next, even.next = odd.next.next, even.next.next\n",
    "        odd, even = odd.next, even.next\n",
    "    \n",
    "    odd.next = even_head\n",
    "    \n",
    "    return head"
   ]
  },
  {
   "cell_type": "markdown",
   "id": "8f5050f8",
   "metadata": {},
   "source": [
    "### 3-7) 역순 연결 리스트2 (LeetCode : 92)"
   ]
  },
  {
   "cell_type": "markdown",
   "id": "25432c0f",
   "metadata": {},
   "source": [
    "## 4) Stack & Queue"
   ]
  },
  {
   "cell_type": "markdown",
   "id": "b7aad5af",
   "metadata": {},
   "source": [
    "### Stack</br>\n",
    "#### 1) Stack의 개념\n",
    "> 한 쪽 끝에서만 자료를 넣고 뺼 수 있는 LIFO(Last in First Out) 형식의 자료구조 </br></br>\n",
    "#### 2) Stack의 연산\n",
    "> - pop : 스택에서 가장 위에 있는 항목 제거\n",
    "> - push : item 하나를 스택의 가장 윗 부분에 추가\n",
    "> - peek : 스택의 가장 위에 있는 항목 반환\n",
    "> - isEmpty : 스택이 비어있을 때 true 반환 </br></br>\n",
    "#### 3) Stack의 구현\n",
    "> - 배열과 달리 스택은 상수 시간에 I번째 항목 접근 불가 \n",
    "> - 하지만 스택에서 데이터 추가 & 삭제는 상수 시간 가능 (pop&push)\n",
    "> - 배열처럼 원소들을 하나씩 옆으로 밀어 줄 필요가 없다.\n",
    "#### 4) 스택의 사용 사례\n",
    "> - 재귀 알고리즘\n",
    "> - 수식의 괄호 검사"
   ]
  },
  {
   "cell_type": "markdown",
   "id": "084b5414",
   "metadata": {},
   "source": [
    "### Stack Code"
   ]
  },
  {
   "cell_type": "markdown",
   "id": "7d1d6731",
   "metadata": {},
   "source": [
    "1. 교재 Code -> 재귀 버젼"
   ]
  },
  {
   "cell_type": "code",
   "execution_count": 8,
   "id": "ece033a9",
   "metadata": {},
   "outputs": [],
   "source": [
    "class Node:\n",
    "    def __init__(self, item, next):\n",
    "        self.item = item\n",
    "        self.next = next"
   ]
  },
  {
   "cell_type": "code",
   "execution_count": 13,
   "id": "6879e340",
   "metadata": {},
   "outputs": [],
   "source": [
    "class Stack:\n",
    "    def __init__(self):\n",
    "        self.last = None\n",
    "        \n",
    "    def push(self, item):\n",
    "        self.last = Node(item, self.last)\n",
    "        \n",
    "    def pop(self):\n",
    "        item = self.last.item -> 2 = item\n",
    "        self.last = self.last.next \n",
    "        return item"
   ]
  },
  {
   "cell_type": "code",
   "execution_count": 14,
   "id": "f888b475",
   "metadata": {
    "collapsed": true
   },
   "outputs": [
    {
     "ename": "AttributeError",
     "evalue": "'Stack' object has no attribute 'pop'",
     "output_type": "error",
     "traceback": [
      "\u001b[0;31m---------------------------------------------------------------------------\u001b[0m",
      "\u001b[0;31mAttributeError\u001b[0m                            Traceback (most recent call last)",
      "\u001b[0;32m/var/folders/lf/cj47lqmj29jccg4zzhvws_tr0000gn/T/ipykernel_4976/2823759514.py\u001b[0m in \u001b[0;36m<module>\u001b[0;34m\u001b[0m\n\u001b[1;32m      1\u001b[0m \u001b[0;32mfor\u001b[0m \u001b[0m_\u001b[0m \u001b[0;32min\u001b[0m \u001b[0mrange\u001b[0m\u001b[0;34m(\u001b[0m\u001b[0;36m4\u001b[0m\u001b[0;34m)\u001b[0m\u001b[0;34m:\u001b[0m\u001b[0;34m\u001b[0m\u001b[0;34m\u001b[0m\u001b[0m\n\u001b[0;32m----> 2\u001b[0;31m     \u001b[0mprint\u001b[0m\u001b[0;34m(\u001b[0m\u001b[0mstack\u001b[0m\u001b[0;34m.\u001b[0m\u001b[0mpop\u001b[0m\u001b[0;34m(\u001b[0m\u001b[0;34m)\u001b[0m\u001b[0;34m)\u001b[0m\u001b[0;34m\u001b[0m\u001b[0;34m\u001b[0m\u001b[0m\n\u001b[0m",
      "\u001b[0;31mAttributeError\u001b[0m: 'Stack' object has no attribute 'pop'"
     ]
    }
   ],
   "source": [
    "stack = Stack()\n",
    "stack.push(1)\n",
    "stack.push(2)\n",
    "stack.push(3)\n",
    "stack.push(4)\n",
    "\n",
    "for _ in range(4):\n",
    "    print(stack.pop())"
   ]
  },
  {
   "cell_type": "markdown",
   "id": "c351d7f6",
   "metadata": {},
   "source": [
    "2. Other Code"
   ]
  },
  {
   "cell_type": "code",
   "execution_count": 11,
   "id": "de5347c8",
   "metadata": {},
   "outputs": [],
   "source": [
    "class Node:\n",
    "    def __init__(self, data):\n",
    "        self.data = data\n",
    "        self.next = None\n",
    "        \n",
    "class Stack:\n",
    "    def __init__(self):\n",
    "        self.head = None\n",
    "    \n",
    "    def push(self, data):\n",
    "        new_node = Node(data)\n",
    "        new_node.next = self.head\n",
    "        self.head = new_node\n",
    "        \n",
    "    def pop(self):\n",
    "        if self.is_empty():\n",
    "            return -1\n",
    "        data = self.head.data\n",
    "        self.head = self.head.next\n",
    "        return data\n",
    "    \n",
    "    def is_empty(self): #stack이 비어있을 때 True를 반환\n",
    "        if self.head:\n",
    "            return False\n",
    "        return True\n",
    "    \n",
    "    def peek(self): #가장 위에 있는 데이터를 '반환만'\n",
    "        if self.is_empty():\n",
    "            return -1\n",
    "        return self.head.data"
   ]
  },
  {
   "cell_type": "markdown",
   "id": "4b9d3190",
   "metadata": {},
   "source": [
    "### Queue</br>\n",
    "#### 1) Queue의 개념\n",
    "> 먼저 집어넣은 데이터가 먼저 나오는 FIFO(First in First Out) 형식의 자료구조 </br></br>\n",
    "#### 2) Queue의 연산\n",
    "> - enQueue : 큐에 데이터 삽입\n",
    "> - deQueue : 큐에서 데이터 뺴내기 </br></br>\n",
    "#### 3) Queue의 구현\n",
    "> - 데이터 삽입 & 삭제 상수 시간 가능\n",
    "> - 하지만 중간에 위치한 데이터 접근 어려움\n",
    "> - 배열로 구현하면 삽입, 삭제에 한계 존재 -> 원형 큐\n",
    "#### 4) Queue의 사용 사례\n",
    "> - 우선순위 작업\n",
    "> - BFS"
   ]
  },
  {
   "cell_type": "markdown",
   "id": "d12d7e8d",
   "metadata": {},
   "source": [
    "### Queue Code"
   ]
  },
  {
   "cell_type": "code",
   "execution_count": null,
   "id": "83e1d36c",
   "metadata": {},
   "outputs": [],
   "source": [
    "class Node:\n",
    "    def __init__(self, data):\n",
    "        self.data = data\n",
    "        self.next = None\n",
    "        \n",
    "class Queue:\n",
    "    def __init__(self):\n",
    "        self.head = None\n",
    "        self.last = None\n",
    "        \n",
    "    def enqueue(self, data): #데이터 입력하는 함수\n",
    "        if self.last is None:\n",
    "            self.head = Node(data)\n",
    "            self.last = self.head\n",
    "        else:\n",
    "            self.last.next = Node(data)\n",
    "            self.last = self.last.next\n",
    "\n",
    "    def dequeue(self): #데이터 출력하는 함수\n",
    "        if self.head is None:\n",
    "            return None\n",
    "        else:\n",
    "            to_return = self.head.data\n",
    "            self.head = self.head.next\n",
    "            return to_return"
   ]
  },
  {
   "cell_type": "markdown",
   "id": "d7f6e912",
   "metadata": {},
   "source": [
    "### 4-1) 유효한 괄호 ( LeetCode : 20 )"
   ]
  },
  {
   "cell_type": "markdown",
   "id": "7e828e29",
   "metadata": {},
   "source": [
    "- stack 내에 마지막으로 열려있는 괄호가 있다면, 그 괄호가 먼저 닫혀야하는게 원칙 -> 따라서 최근 원소가 도출되어야 하니까 pop을 사용한 것 </br></br>\n",
    "- 또한 ()} 와 같이 table에 없는데 미결된 경우 -> not stack 에서 걸림 </br></br>\n",
    "- 만약 ()( 와 같이 table에 있어서 stack에 들어갔는데 미결된 경우 -> len(stack)==0 에서 false로 걸림"
   ]
  },
  {
   "cell_type": "code",
   "execution_count": 15,
   "id": "132037d7",
   "metadata": {},
   "outputs": [],
   "source": [
    "def isValid(s):\n",
    "    table = {\n",
    "        ')' : '(',\n",
    "        '}' : '{',\n",
    "        ']' : '['\n",
    "    }\n",
    "    stack = []\n",
    "\n",
    "    for char in s:\n",
    "        if char not in table:\n",
    "            stack.append(char)\n",
    "        elif not stack or table[char]!=stack.pop():\n",
    "            return False\n",
    "    return len(stack) == 0"
   ]
  },
  {
   "cell_type": "markdown",
   "id": "52d03124",
   "metadata": {},
   "source": [
    "### 4-2) 중복 문자 제거 ( LeetCode : 316 )"
   ]
  },
  {
   "cell_type": "code",
   "execution_count": 28,
   "id": "583d56a5",
   "metadata": {},
   "outputs": [
    {
     "name": "stdout",
     "output_type": "stream",
     "text": [
      "acdcbc\n",
      "bacdcbc\n",
      "cbacdcbc\n",
      "dcbc\n"
     ]
    }
   ],
   "source": [
    "#1) 재귀를 이용한 분리\n",
    "#### 재귀가 없으면\n",
    "s = 'cbacdcbc'\n",
    "\n",
    "for char in sorted(set(s)):\n",
    "    suffix = s[s.index(char):] #suffix : 해당 문자열이 처음 등장하는 시점\n",
    "    print(suffix)"
   ]
  },
  {
   "cell_type": "code",
   "execution_count": 31,
   "id": "50732b67",
   "metadata": {},
   "outputs": [],
   "source": [
    "s = 'cbacdcbc'\n",
    "\n",
    "def removePuplicateLetters(self,s):\n",
    "    for char in sorted(set(s)):\n",
    "        suffix = s[s.index(char):] #suffix : 해당 문자열이 처음 등장하는 시점\n",
    "\n",
    "        if set(suffix) == set(s):\n",
    "            return char + self.removeDuplicateLetters(suffix.replace(char,''))"
   ]
  },
  {
   "cell_type": "markdown",
   "id": "6dab6e1c",
   "metadata": {},
   "source": [
    "### 4-3) 일일 온도 ( LeetCode : 739 )"
   ]
  },
  {
   "cell_type": "code",
   "execution_count": 36,
   "id": "24ee6b18",
   "metadata": {
    "collapsed": true
   },
   "outputs": [
    {
     "ename": "IndentationError",
     "evalue": "expected an indented block (479143628.py, line 1)",
     "output_type": "error",
     "traceback": [
      "\u001b[0;36m  File \u001b[0;32m\"/var/folders/lf/cj47lqmj29jccg4zzhvws_tr0000gn/T/ipykernel_2490/479143628.py\"\u001b[0;36m, line \u001b[0;32m1\u001b[0m\n\u001b[0;31m    def dailyTemperatures(self, T) :\u001b[0m\n\u001b[0m                                    ^\u001b[0m\n\u001b[0;31mIndentationError\u001b[0m\u001b[0;31m:\u001b[0m expected an indented block\n"
     ]
    }
   ],
   "source": [
    "def dailyTemperatures(self, T):\n",
    "    answer = [0] * len(T)\n",
    "    stack = []\n",
    "    for i, cur in enumerate(T):\n",
    "        while stack and cur > T[stack[-1]]:\n",
    "            answer[last] = i-last\n",
    "        stack.append(i)\n",
    "    return answer"
   ]
  },
  {
   "cell_type": "markdown",
   "id": "2bb20436",
   "metadata": {},
   "source": [
    "### 4-4) 큐를 이용한 스택 구현 ( LeetCode : 225 )"
   ]
  },
  {
   "cell_type": "code",
   "execution_count": 55,
   "id": "c9b95bf8",
   "metadata": {},
   "outputs": [],
   "source": [
    "import collections"
   ]
  },
  {
   "cell_type": "code",
   "execution_count": 56,
   "id": "20b91c5f",
   "metadata": {},
   "outputs": [],
   "source": [
    "class MyStack:\n",
    "    def __init__(self):\n",
    "        self.q = collections.deque()\n",
    "    \n",
    "    # 방금 append한 요소 제외하고 순서대로 뒤로 보내는 과정\n",
    "    def push(self, x):\n",
    "        self.q.append(x)\n",
    "        for _ in range(len(self.q)-1):\n",
    "            self.q.append(self.q.popleft())\n",
    "    \n",
    "    def pop(self):\n",
    "        return self.q.popleft()\n",
    "    \n",
    "    def top(self):\n",
    "        return self.q[0]\n",
    "    \n",
    "    def empty(self):\n",
    "        return len(self.q) == 0"
   ]
  },
  {
   "cell_type": "markdown",
   "id": "5c783b21",
   "metadata": {},
   "source": [
    "### 4-5) 스택을 이용한 큐 구현 ( LeetCode : 232 )"
   ]
  },
  {
   "cell_type": "code",
   "execution_count": 1,
   "id": "8cfb355e",
   "metadata": {},
   "outputs": [],
   "source": [
    "class MyQueue:\n",
    "    def __init__(self):\n",
    "        self.input = []\n",
    "        self.output = []\n",
    "    \n",
    "    def push(self, x):\n",
    "        self.input.append(x)\n",
    "        \n",
    "    def pop(self):\n",
    "        self.peek()\n",
    "        return self.output.pop()\n",
    "    \n",
    "    def peek(self):\n",
    "        if not self.output():\n",
    "            while self.input():\n",
    "                self.output.append(self.input.pop())\n",
    "        return self.output[-1]\n",
    "    \n",
    "    def empty(self):\n",
    "        return self.input == [] and self.output == []"
   ]
  },
  {
   "cell_type": "markdown",
   "id": "e7115261",
   "metadata": {},
   "source": [
    "## 5) Deque, Priority Queue"
   ]
  },
  {
   "cell_type": "code",
   "execution_count": 17,
   "id": "227967fa",
   "metadata": {},
   "outputs": [],
   "source": [
    "class ListNode:\n",
    "    def __init__(self, data):\n",
    "        self.val = data\n",
    "        self.next = None\n",
    "\n",
    "class MyCircularDeque:\n",
    "    def __init__(self,k):\n",
    "        self.head, self.tail = ListNode(None), ListNode(None)\n",
    "        self.k, self.len = k, 0\n",
    "        self.head.right , self.tail.left = self.tail, self.head\n",
    "    \n",
    "    def _add(self, node, new):\n",
    "        n = node.right\n",
    "        node.right = new\n",
    "        new.left, new.right = node, n\n",
    "        n.left = new\n",
    "        \n",
    "    def _del(self, node):\n",
    "        n = node.right.right\n",
    "        node.right = n\n",
    "        n.left = node\n",
    "    \n",
    "    def insertFront(self, value): # head <-> ListNode(value) <-> tail\n",
    "        if self.len == self.k:\n",
    "            return False\n",
    "        self.len += 1\n",
    "        self._add(self.head, ListNode(value))\n",
    "        return True\n",
    "    \n",
    "    def insertLast(self, value):\n",
    "        if self.len == self.k:\n",
    "            return False\n",
    "        self.len += 1\n",
    "        self._add(tail.left, Listnode(value))\n",
    "    \n",
    "    def deleteFront(self):\n",
    "        if self.len == 0:\n",
    "            return False\n",
    "        self.len -= 1\n",
    "        self._del(self.head)\n",
    "        return True\n",
    "    \n",
    "    def deleteLast(self):\n",
    "        if self.len == 0:\n",
    "            return False\n",
    "        self.len -= 1\n",
    "        self._del(self.tail.left.left)\n",
    "        \n",
    "    def getFront(self):\n",
    "        return self.head.right.val if self.len else -1\n",
    "    \n",
    "    def getRear(self):\n",
    "        return self.tail.left.val if self.len else -1\n",
    "    \n",
    "    def isEmpty(self):\n",
    "        return self.len == 0\n",
    "    \n",
    "    def isFull(self):\n",
    "        return self.len == self.k"
   ]
  },
  {
   "cell_type": "code",
   "execution_count": 18,
   "id": "63dc3695",
   "metadata": {
    "collapsed": true
   },
   "outputs": [
    {
     "ename": "NameError",
     "evalue": "name 'tail' is not defined",
     "output_type": "error",
     "traceback": [
      "\u001b[0;31m---------------------------------------------------------------------------\u001b[0m",
      "\u001b[0;31mNameError\u001b[0m                                 Traceback (most recent call last)",
      "\u001b[0;32m/var/folders/lf/cj47lqmj29jccg4zzhvws_tr0000gn/T/ipykernel_1492/2273488351.py\u001b[0m in \u001b[0;36m<module>\u001b[0;34m\u001b[0m\n\u001b[1;32m      1\u001b[0m \u001b[0mdq\u001b[0m \u001b[0;34m=\u001b[0m \u001b[0mMyCircularDeque\u001b[0m\u001b[0;34m(\u001b[0m\u001b[0;36m10\u001b[0m\u001b[0;34m)\u001b[0m\u001b[0;34m\u001b[0m\u001b[0;34m\u001b[0m\u001b[0m\n\u001b[0;32m----> 2\u001b[0;31m \u001b[0mdq\u001b[0m\u001b[0;34m.\u001b[0m\u001b[0minsertLast\u001b[0m\u001b[0;34m(\u001b[0m\u001b[0;36m1\u001b[0m\u001b[0;34m)\u001b[0m\u001b[0;34m\u001b[0m\u001b[0;34m\u001b[0m\u001b[0m\n\u001b[0m\u001b[1;32m      3\u001b[0m \u001b[0mdq\u001b[0m\u001b[0;34m.\u001b[0m\u001b[0minsertLast\u001b[0m\u001b[0;34m(\u001b[0m\u001b[0;36m2\u001b[0m\u001b[0;34m)\u001b[0m\u001b[0;34m\u001b[0m\u001b[0;34m\u001b[0m\u001b[0m\n\u001b[1;32m      4\u001b[0m \u001b[0mdq\u001b[0m\u001b[0;34m.\u001b[0m\u001b[0minsertLast\u001b[0m\u001b[0;34m(\u001b[0m\u001b[0;36m3\u001b[0m\u001b[0;34m)\u001b[0m\u001b[0;34m\u001b[0m\u001b[0;34m\u001b[0m\u001b[0m\n\u001b[1;32m      5\u001b[0m \u001b[0mdq\u001b[0m\u001b[0;34m.\u001b[0m\u001b[0minsertLast\u001b[0m\u001b[0;34m(\u001b[0m\u001b[0;36m4\u001b[0m\u001b[0;34m)\u001b[0m\u001b[0;34m\u001b[0m\u001b[0;34m\u001b[0m\u001b[0m\n",
      "\u001b[0;32m/var/folders/lf/cj47lqmj29jccg4zzhvws_tr0000gn/T/ipykernel_1492/242603995.py\u001b[0m in \u001b[0;36minsertLast\u001b[0;34m(self, value)\u001b[0m\n\u001b[1;32m     32\u001b[0m             \u001b[0;32mreturn\u001b[0m \u001b[0;32mFalse\u001b[0m\u001b[0;34m\u001b[0m\u001b[0;34m\u001b[0m\u001b[0m\n\u001b[1;32m     33\u001b[0m         \u001b[0mself\u001b[0m\u001b[0;34m.\u001b[0m\u001b[0mlen\u001b[0m \u001b[0;34m+=\u001b[0m \u001b[0;36m1\u001b[0m\u001b[0;34m\u001b[0m\u001b[0;34m\u001b[0m\u001b[0m\n\u001b[0;32m---> 34\u001b[0;31m         \u001b[0mself\u001b[0m\u001b[0;34m.\u001b[0m\u001b[0m_add\u001b[0m\u001b[0;34m(\u001b[0m\u001b[0mtail\u001b[0m\u001b[0;34m.\u001b[0m\u001b[0mleft\u001b[0m\u001b[0;34m,\u001b[0m \u001b[0mListnode\u001b[0m\u001b[0;34m(\u001b[0m\u001b[0mvalue\u001b[0m\u001b[0;34m)\u001b[0m\u001b[0;34m)\u001b[0m\u001b[0;34m\u001b[0m\u001b[0;34m\u001b[0m\u001b[0m\n\u001b[0m\u001b[1;32m     35\u001b[0m \u001b[0;34m\u001b[0m\u001b[0m\n\u001b[1;32m     36\u001b[0m     \u001b[0;32mdef\u001b[0m \u001b[0mdeleteFront\u001b[0m\u001b[0;34m(\u001b[0m\u001b[0mself\u001b[0m\u001b[0;34m)\u001b[0m\u001b[0;34m:\u001b[0m\u001b[0;34m\u001b[0m\u001b[0;34m\u001b[0m\u001b[0m\n",
      "\u001b[0;31mNameError\u001b[0m: name 'tail' is not defined"
     ]
    }
   ],
   "source": [
    "dq = MyCircularDeque(10)\n",
    "dq.insertLast(1)\n",
    "dq.insertLast(2)\n",
    "dq.insertLast(3)\n",
    "dq.insertLast(4)\n",
    "dq.deleteLast()"
   ]
  },
  {
   "cell_type": "markdown",
   "id": "ebfde589",
   "metadata": {},
   "source": [
    "### 5-2) K개 정렬 리스트병합"
   ]
  },
  {
   "cell_type": "code",
   "execution_count": 28,
   "id": "1b183102",
   "metadata": {},
   "outputs": [],
   "source": [
    "def mergeKLists(self, lists):\n",
    "    root = result = ListNode(None)\n",
    "    heap = []\n",
    "    \n",
    "    for i in range(len(lists)):\n",
    "        if lists[i]:\n",
    "            heapq.heappush(heap, (lists[i].val, i, lists[i]))\n",
    "    \n",
    "    while heap:\n",
    "        node = heapq.heappop(heap)\n",
    "        idx = node[1]\n",
    "        result.next = node[2]\n",
    "        \n",
    "        result = result.next\n",
    "        \n",
    "        if result.next:\n",
    "            heapq.heappush(heap, (result.next.val, idx, result.next))\n",
    "            \n",
    "    return root.next"
   ]
  },
  {
   "cell_type": "markdown",
   "id": "84d67c03",
   "metadata": {},
   "source": [
    "## 6) 해시 테이블"
   ]
  },
  {
   "cell_type": "markdown",
   "id": "2b5fb8e0",
   "metadata": {},
   "source": [
    "### 6-1) 해시맵 디자인 ( LeetCode : 706 )"
   ]
  },
  {
   "cell_type": "code",
   "execution_count": 11,
   "id": "4054dd74",
   "metadata": {},
   "outputs": [],
   "source": [
    "import collections\n",
    "\n",
    "class ListNode(object):\n",
    "    def __init__(self,key = None,value=None):\n",
    "        self.value = value\n",
    "        self.key = key\n",
    "        self.next = None\n",
    "\n",
    "class MyHashMap:\n",
    "    def __init__(self):\n",
    "        self.size = 1000 #해시 테이블 size\n",
    "        self.table = collections.defaultdict(ListNode) #index들이 모여있는 곳\n",
    "\n",
    "    def put(self,key:int,value:int)->None:\n",
    "        index = key % self.size # index == 해시\n",
    "        \n",
    "        #index 내에 값이 없을 경우\n",
    "        if self.table[index].value is None: #인덱스에 아무것도 없다\n",
    "            self.table[index] = ListNode(key,value) #ListNode에 key, value 삽입하고 종료한다.\n",
    "            return\n",
    "        \n",
    "        #index 내에 다른 값이 있을 경우\n",
    "        p = self.table[index]\n",
    "        #p.next이 None이 될때까지 while문을 적용\n",
    "        while p:\n",
    "            if p.key == key:\n",
    "                p.value = value\n",
    "                return\n",
    "            if p.next is None:\n",
    "                break\n",
    "            p = p.next\n",
    "        p.next = ListNode(key,value) #p.next를 put하고자 했던 key, value로 구성된 ListNode로 지정.\n",
    "\n",
    "    def get(self,key:int)->int:\n",
    "        index = key % self.size\n",
    "        \n",
    "        #찾고자 하는 key값이 없을 경우\n",
    "        if self.table[index].value is None:\n",
    "            return -1\n",
    "        p = self.table[index]\n",
    "        while p:\n",
    "            if p.key == key: #찾고자 하는 key값이 있을 경우\n",
    "                return p.value\n",
    "            p = p.next\n",
    "        return -1\n",
    "\n",
    "    def remove(self,key:int)->None:\n",
    "        index = key%self.size\n",
    "        if self.table[index].value is None:\n",
    "            return\n",
    "\n",
    "        p = self.table[index]\n",
    "        if p.key == key:\n",
    "            self.table[index] = ListNode() if p.next is None else p.next \n",
    "            return\n",
    "\n",
    "        prev = p #linked list 연결위해 이전 노드를 keep\n",
    "        while p:\n",
    "            if p.key ==key:\n",
    "                prev.next = p.next #Linked list 연결 끊기\n",
    "                return\n",
    "            prev, p = p, p.next"
   ]
  },
  {
   "cell_type": "code",
   "execution_count": 19,
   "id": "a85ce008",
   "metadata": {},
   "outputs": [
    {
     "data": {
      "text/plain": [
       "5"
      ]
     },
     "execution_count": 19,
     "metadata": {},
     "output_type": "execute_result"
    }
   ],
   "source": [
    "hashMap = MyHashMap()\n",
    "hashMap.put(102,10)\n",
    "hashMap.put(2,5)\n",
    "hashMap.get(2)"
   ]
  },
  {
   "cell_type": "markdown",
   "id": "dbefd071",
   "metadata": {},
   "source": [
    "### 6-2) 보석과 돌 ( LeetCode : 771 ) "
   ]
  },
  {
   "cell_type": "code",
   "execution_count": 25,
   "id": "b9d13059",
   "metadata": {},
   "outputs": [],
   "source": [
    "#1) 해시 테이블을 이용한 풀이\n",
    "\n",
    "def numJewelsInStones(J,S):\n",
    "    freqs = {}\n",
    "    count = 0\n",
    "    \n",
    "    for char in S:\n",
    "        if char not in freqs:\n",
    "            freqs[char] = 1\n",
    "        else:\n",
    "            freqs[char] += 1\n",
    "    \n",
    "    for char in J:\n",
    "        if char in freqs:\n",
    "            count += freqs[char]\n",
    "    \n",
    "    return count"
   ]
  },
  {
   "cell_type": "code",
   "execution_count": 30,
   "id": "900aa172",
   "metadata": {},
   "outputs": [],
   "source": [
    "#2) defaultdict를 이용한 비교 생략\n",
    "\n",
    "def numJewelsInStones(J,S):\n",
    "    freqs = collections.defaultdict(int)\n",
    "    count = 0\n",
    "    \n",
    "    for char in S:\n",
    "        freqs[char] += 1\n",
    "    \n",
    "    for char in J:\n",
    "        count += freqs[char]\n",
    "    \n",
    "    return count"
   ]
  },
  {
   "cell_type": "code",
   "execution_count": null,
   "id": "2cb510af",
   "metadata": {},
   "outputs": [],
   "source": [
    "#3) Counter 로 계산생략\n",
    "\n",
    "def numJewelsInStones(J,S):\n",
    "    freqs = collections.Counter(S)\n",
    "    count = 0\n",
    "    \n",
    "    for char in J:\n",
    "        count += freqs[char]\n",
    "        \n",
    "    return count"
   ]
  },
  {
   "cell_type": "code",
   "execution_count": null,
   "id": "0f6b05d2",
   "metadata": {},
   "outputs": [],
   "source": [
    "#4) Like Python\n",
    "\n",
    "def numJewelsInStones(J,S):\n",
    "    return sum(s in J for s in S)"
   ]
  }
 ],
 "metadata": {
  "kernelspec": {
   "display_name": "Python 3 (ipykernel)",
   "language": "python",
   "name": "python3"
  },
  "language_info": {
   "codemirror_mode": {
    "name": "ipython",
    "version": 3
   },
   "file_extension": ".py",
   "mimetype": "text/x-python",
   "name": "python",
   "nbconvert_exporter": "python",
   "pygments_lexer": "ipython3",
   "version": "3.9.7"
  }
 },
 "nbformat": 4,
 "nbformat_minor": 5
}
