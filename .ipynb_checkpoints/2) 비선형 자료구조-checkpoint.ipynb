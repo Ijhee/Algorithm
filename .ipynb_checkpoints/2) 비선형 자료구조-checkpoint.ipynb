{
 "cells": [
  {
   "cell_type": "markdown",
   "id": "c5a5c64b",
   "metadata": {},
   "source": [
    "## 1) Graph"
   ]
  },
  {
   "cell_type": "code",
   "execution_count": null,
   "id": "42b3ad48",
   "metadata": {},
   "outputs": [],
   "source": [
    "graph = {\n",
    "    1 : [2,3,4],\n",
    "    2 : [5],\n",
    "    3 : [5],\n",
    "    4 : [],\n",
    "    5 : [6,7],\n",
    "    6 : [],\n",
    "    7 : [3],\n",
    "}"
   ]
  },
  {
   "cell_type": "markdown",
   "id": "583638a9",
   "metadata": {},
   "source": [
    "### DFS"
   ]
  },
  {
   "cell_type": "markdown",
   "id": "9d59154b",
   "metadata": {},
   "source": [
    "- 재귀 구조로 구현"
   ]
  },
  {
   "cell_type": "code",
   "execution_count": null,
   "id": "ade4e56a",
   "metadata": {},
   "outputs": [],
   "source": [
    "def recursive_dfs(v, discovered = []): # v: 출발 노드\n",
    "    discovered.append(v)\n",
    "    for w in graph[v]:\n",
    "        if not w in discovered: # w를 아직 방문하지 않았다면\n",
    "            discovered = recursive_dfs(w, discovered)\n",
    "    return discovered"
   ]
  },
  {
   "cell_type": "markdown",
   "id": "3bb52ef8",
   "metadata": {},
   "source": [
    "- 스택을 이용한 반복 구조로 구현"
   ]
  },
  {
   "cell_type": "code",
   "execution_count": null,
   "id": "8ba55e1e",
   "metadata": {},
   "outputs": [],
   "source": [
    "def iterative_dfs(start_v):\n",
    "    discovered = []\n",
    "    stack = [start_v]\n",
    "    while stack:\n",
    "        v = stack.pop()\n",
    "    if v not in discovered:\n",
    "        discovered.append(v)\n",
    "        for w in graph[v]:\n",
    "            stack.append(w)\n",
    "    return discovered"
   ]
  },
  {
   "cell_type": "markdown",
   "id": "ede57578",
   "metadata": {},
   "source": [
    "### BFS"
   ]
  },
  {
   "cell_type": "code",
   "execution_count": 6,
   "id": "7b47862e",
   "metadata": {},
   "outputs": [],
   "source": [
    "def iterative_bfs(start_v):\n",
    "    discovered = []\n",
    "    queue = [start_v]\n",
    "    while queue:\n",
    "        v = queue.pop(0)\n",
    "    if v not in discovered:\n",
    "        for w in graph[v]:\n",
    "            discovered.append(v)\n",
    "            queue.append(w)\n",
    "    return discovered"
   ]
  },
  {
   "cell_type": "markdown",
   "id": "69520ffa",
   "metadata": {},
   "source": [
    "## 2) Shortest Path"
   ]
  },
  {
   "cell_type": "markdown",
   "id": "92ea48e4",
   "metadata": {},
   "source": [
    "### 1. 네트워크 딜레이 타임 ( LeetCode : 743 )"
   ]
  },
  {
   "cell_type": "code",
   "execution_count": 27,
   "id": "a352733c",
   "metadata": {},
   "outputs": [],
   "source": [
    "from heapq import heappush, heappop \n",
    "Q = [(1,6),(3,4)]\n",
    "a,b = heappop(Q)"
   ]
  },
  {
   "cell_type": "code",
   "execution_count": 22,
   "id": "cc2c0323",
   "metadata": {},
   "outputs": [],
   "source": [
    "from collections import defaultdict\n",
    "graph = defaultdict(list)\n",
    "\n",
    "times = [[3,1,5], [3,2,2], [2,1,2], [3,4,1], [4,5,1], [5,6,1], [6,7,1], [7,8,1], [8,1,1]]\n",
    "\n",
    "for u,v,w in times:\n",
    "    graph[u].append((v,w))"
   ]
  },
  {
   "cell_type": "code",
   "execution_count": 38,
   "id": "84e63431",
   "metadata": {},
   "outputs": [],
   "source": [
    "def networkDelayTime(times,n,k):\n",
    "    graph = defaultdict(list)\n",
    "        # 그래프 인접 리스트 = [출발노드, 도착노드, 소요 시간]\n",
    "    for u,v,w in times:\n",
    "        graph[u].append((v,w))\n",
    "        \n",
    "        # 큐 변수: [(소요 시간, 출발노드)] + heappop을 이용하려면 소요시간이 앞으로 와야 소요시간 기준으로 정렬가능\n",
    "    Q = [(0, k)]\n",
    "        \n",
    "    dist = defaultdict(int)\n",
    "        \n",
    "        # 우선순위 큐 최솟값 기준으로 정점까지 최단 경로 삽입\n",
    "    while Q:\n",
    "        time, node = heapq.heappop(Q #Q 내에서 소요 시간이 가장 작은 node pop\n",
    "        if node not in dist:\n",
    "            dist[node] = time  #dist에는 최소 경로로 지나가는 노드 및 소요 시간을 추가\n",
    "            for v, w in graph[node]:\n",
    "                alt = time + w # time은 현재 출발 노드인 node에 도달하는데까지의 비용 / w 는 node로부터 인접노드까지의 비용\n",
    "                heapq.heappush(Q, (alt,v))\n",
    "                    \n",
    "        # 모든 노드의 최단 경로 존재 여부 판별\n",
    "    if len(dist) == n:\n",
    "        return max(dist.values())\n",
    "    return -1"
   ]
  },
  {
   "cell_type": "code",
   "execution_count": 39,
   "id": "09b040dc",
   "metadata": {
    "scrolled": true
   },
   "outputs": [
    {
     "ename": "NameError",
     "evalue": "name 'heapq' is not defined",
     "output_type": "error",
     "traceback": [
      "\u001b[0;31m---------------------------------------------------------------------------\u001b[0m",
      "\u001b[0;31mNameError\u001b[0m                                 Traceback (most recent call last)",
      "\u001b[0;32m/var/folders/lf/cj47lqmj29jccg4zzhvws_tr0000gn/T/ipykernel_1493/3867559005.py\u001b[0m in \u001b[0;36m<module>\u001b[0;34m\u001b[0m\n\u001b[0;32m----> 1\u001b[0;31m \u001b[0mnetworkDelayTime\u001b[0m\u001b[0;34m(\u001b[0m\u001b[0mtimes\u001b[0m\u001b[0;34m,\u001b[0m\u001b[0;36m8\u001b[0m\u001b[0;34m,\u001b[0m\u001b[0;36m3\u001b[0m\u001b[0;34m)\u001b[0m\u001b[0;34m\u001b[0m\u001b[0;34m\u001b[0m\u001b[0m\n\u001b[0m",
      "\u001b[0;32m/var/folders/lf/cj47lqmj29jccg4zzhvws_tr0000gn/T/ipykernel_1493/4271533430.py\u001b[0m in \u001b[0;36mnetworkDelayTime\u001b[0;34m(times, n, k)\u001b[0m\n\u001b[1;32m     12\u001b[0m         \u001b[0;31m# 우선순위 큐 최솟값 기준으로 정점까지 최단 경로 삽입\u001b[0m\u001b[0;34m\u001b[0m\u001b[0;34m\u001b[0m\u001b[0m\n\u001b[1;32m     13\u001b[0m     \u001b[0;32mwhile\u001b[0m \u001b[0mQ\u001b[0m\u001b[0;34m:\u001b[0m\u001b[0;34m\u001b[0m\u001b[0;34m\u001b[0m\u001b[0m\n\u001b[0;32m---> 14\u001b[0;31m         \u001b[0mtime\u001b[0m\u001b[0;34m,\u001b[0m \u001b[0mnode\u001b[0m \u001b[0;34m=\u001b[0m \u001b[0mheapq\u001b[0m\u001b[0;34m.\u001b[0m\u001b[0mheappop\u001b[0m\u001b[0;34m(\u001b[0m\u001b[0mQ\u001b[0m\u001b[0;34m)\u001b[0m\u001b[0;34m\u001b[0m\u001b[0;34m\u001b[0m\u001b[0m\n\u001b[0m\u001b[1;32m     15\u001b[0m         \u001b[0;32mif\u001b[0m \u001b[0mnode\u001b[0m \u001b[0;32mnot\u001b[0m \u001b[0;32min\u001b[0m \u001b[0mdist\u001b[0m\u001b[0;34m:\u001b[0m\u001b[0;34m\u001b[0m\u001b[0;34m\u001b[0m\u001b[0m\n\u001b[1;32m     16\u001b[0m             \u001b[0mdist\u001b[0m\u001b[0;34m[\u001b[0m\u001b[0mnode\u001b[0m\u001b[0;34m]\u001b[0m \u001b[0;34m=\u001b[0m \u001b[0mtime\u001b[0m\u001b[0;34m\u001b[0m\u001b[0;34m\u001b[0m\u001b[0m\n",
      "\u001b[0;31mNameError\u001b[0m: name 'heapq' is not defined"
     ]
    }
   ],
   "source": [
    "networkDelayTime(times,8,3)"
   ]
  },
  {
   "cell_type": "markdown",
   "id": "734948af",
   "metadata": {},
   "source": [
    "### 2. K 경유지 내 가장 저렴한 항공권 ( LeetCode  : 787 )"
   ]
  },
  {
   "cell_type": "code",
   "execution_count": null,
   "id": "1da81be9",
   "metadata": {},
   "outputs": [],
   "source": [
    "def findCheapestPrice(n, flights, src, dst, K):\n",
    "    graph = defaultdict(list)\n",
    "    \n",
    "    for u,v,w in flights:\n",
    "        graph[u].append((v,w))\n",
    "    \n",
    "    Q = [(0, src, K)]\n",
    "    \n",
    "    while Q:\n",
    "        price, node, k = heapq.heappop(Q)\n",
    "        if node == dst:\n",
    "            return price\n",
    "        if k >= 0:\n",
    "            for v, w in graph[node]:\n",
    "                alt = price + w\n",
    "                heap.heappush((alt, v, k-1))\n",
    "    \n",
    "    return -1"
   ]
  }
 ],
 "metadata": {
  "kernelspec": {
   "display_name": "Python 3 (ipykernel)",
   "language": "python",
   "name": "python3"
  },
  "language_info": {
   "codemirror_mode": {
    "name": "ipython",
    "version": 3
   },
   "file_extension": ".py",
   "mimetype": "text/x-python",
   "name": "python",
   "nbconvert_exporter": "python",
   "pygments_lexer": "ipython3",
   "version": "3.9.7"
  }
 },
 "nbformat": 4,
 "nbformat_minor": 5
}
