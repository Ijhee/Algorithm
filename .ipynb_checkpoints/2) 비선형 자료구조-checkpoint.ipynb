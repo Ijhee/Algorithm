{
 "cells": [
  {
   "cell_type": "markdown",
   "id": "c5a5c64b",
   "metadata": {},
   "source": [
    "## 1) Graph"
   ]
  },
  {
   "cell_type": "code",
   "execution_count": null,
   "id": "42b3ad48",
   "metadata": {},
   "outputs": [],
   "source": [
    "graph = {\n",
    "    1 : [2,3,4],\n",
    "    2 : [5],\n",
    "    3 : [5],\n",
    "    4 : [],\n",
    "    5 : [6,7],\n",
    "    6 : [],\n",
    "    7 : [3],\n",
    "}"
   ]
  },
  {
   "cell_type": "markdown",
   "id": "583638a9",
   "metadata": {},
   "source": [
    "### DFS"
   ]
  },
  {
   "cell_type": "markdown",
   "id": "9d59154b",
   "metadata": {},
   "source": [
    "- 재귀 구조로 구현"
   ]
  },
  {
   "cell_type": "code",
   "execution_count": null,
   "id": "ade4e56a",
   "metadata": {},
   "outputs": [],
   "source": [
    "def recursive_dfs(v, discovered = []): # v: 출발 노드\n",
    "    discovered.append(v)\n",
    "    for w in graph[v]:\n",
    "        if not w in discovered: # w를 아직 방문하지 않았다면\n",
    "            discovered = recursive_dfs(w, discovered)\n",
    "    return discovered"
   ]
  },
  {
   "cell_type": "markdown",
   "id": "3bb52ef8",
   "metadata": {},
   "source": [
    "- 스택을 이용한 반복 구조로 구현"
   ]
  },
  {
   "cell_type": "code",
   "execution_count": null,
   "id": "8ba55e1e",
   "metadata": {},
   "outputs": [],
   "source": [
    "def iterative_dfs(start_v):\n",
    "    discovered = []\n",
    "    stack = [start_v]\n",
    "    while stack:\n",
    "        v = stack.pop()\n",
    "    if v not in discovered:\n",
    "        discovered.append(v)\n",
    "        for w in graph[v]:\n",
    "            stack.append(w)\n",
    "    return discovered"
   ]
  },
  {
   "cell_type": "markdown",
   "id": "ede57578",
   "metadata": {},
   "source": [
    "### BFS"
   ]
  },
  {
   "cell_type": "code",
   "execution_count": 6,
   "id": "7b47862e",
   "metadata": {},
   "outputs": [],
   "source": [
    "def iterative_bfs(start_v):\n",
    "    discovered = []\n",
    "    queue = [start_v]\n",
    "    while queue:\n",
    "        v = queue.pop(0)\n",
    "    if v not in discovered:\n",
    "        for w in graph[v]:\n",
    "            discovered.append(v)\n",
    "            queue.append(w)\n",
    "    return discovered"
   ]
  },
  {
   "cell_type": "markdown",
   "id": "a47bcda8",
   "metadata": {},
   "source": [
    "## 2) Shortest Path"
   ]
  },
  {
   "cell_type": "markdown",
   "id": "3d87d71a",
   "metadata": {},
   "source": [
    "### 1. 네트워크 딜레이 타임 ( LeetCode : 743 )"
   ]
  },
  {
   "cell_type": "code",
   "execution_count": 27,
   "id": "061de8d8",
   "metadata": {},
   "outputs": [],
   "source": [
    "from heapq import heappush, heappop \n",
    "Q = [(1,6),(3,4)]\n",
    "a,b = heappop(Q)"
   ]
  },
  {
   "cell_type": "code",
   "execution_count": 22,
   "id": "c906b94f",
   "metadata": {},
   "outputs": [],
   "source": [
    "from collections import defaultdict\n",
    "graph = defaultdict(list)\n",
    "\n",
    "times = [[3,1,5], [3,2,2], [2,1,2], [3,4,1], [4,5,1], [5,6,1], [6,7,1], [7,8,1], [8,1,1]]\n",
    "\n",
    "for u,v,w in times:\n",
    "    graph[u].append((v,w))"
   ]
  },
  {
   "cell_type": "code",
   "execution_count": 38,
   "id": "c074fd8f",
   "metadata": {},
   "outputs": [],
   "source": [
    "def networkDelayTime(times,n,k):\n",
    "    graph = defaultdict(list)\n",
    "        # 그래프 인접 리스트 = [출발노드, 도착노드, 소요 시간]\n",
    "    for u,v,w in times:\n",
    "        graph[u].append((v,w))\n",
    "        \n",
    "        # 큐 변수: [(소요 시간, 출발노드)] + heappop을 이용하려면 소요시간이 앞으로 와야 소요시간 기준으로 정렬가능\n",
    "    Q = [(0, k)]\n",
    "        \n",
    "    dist = defaultdict(int)\n",
    "        \n",
    "        # 우선순위 큐 최솟값 기준으로 정점까지 최단 경로 삽입\n",
    "    while Q:\n",
    "        time, node = heapq.heappop(Q #Q 내에서 소요 시간이 가장 작은 node pop\n",
    "        if node not in dist:\n",
    "            dist[node] = time  #dist에는 최소 경로로 지나가는 노드 및 소요 시간을 추가\n",
    "            for v, w in graph[node]:\n",
    "                alt = time + w # time은 현재 출발 노드인 node에 도달하는데까지의 비용 / w 는 node로부터 인접노드까지의 비용\n",
    "                heapq.heappush(Q, (alt,v))\n",
    "                    \n",
    "        # 모든 노드의 최단 경로 존재 여부 판별\n",
    "    if len(dist) == n:\n",
    "        return max(dist.values())\n",
    "    return -1"
   ]
  },
  {
   "cell_type": "code",
   "execution_count": 39,
   "id": "048fa639",
   "metadata": {
    "scrolled": true
   },
   "outputs": [
    {
     "ename": "NameError",
     "evalue": "name 'heapq' is not defined",
     "output_type": "error",
     "traceback": [
      "\u001b[0;31m---------------------------------------------------------------------------\u001b[0m",
      "\u001b[0;31mNameError\u001b[0m                                 Traceback (most recent call last)",
      "\u001b[0;32m/var/folders/lf/cj47lqmj29jccg4zzhvws_tr0000gn/T/ipykernel_1493/3867559005.py\u001b[0m in \u001b[0;36m<module>\u001b[0;34m\u001b[0m\n\u001b[0;32m----> 1\u001b[0;31m \u001b[0mnetworkDelayTime\u001b[0m\u001b[0;34m(\u001b[0m\u001b[0mtimes\u001b[0m\u001b[0;34m,\u001b[0m\u001b[0;36m8\u001b[0m\u001b[0;34m,\u001b[0m\u001b[0;36m3\u001b[0m\u001b[0;34m)\u001b[0m\u001b[0;34m\u001b[0m\u001b[0;34m\u001b[0m\u001b[0m\n\u001b[0m",
      "\u001b[0;32m/var/folders/lf/cj47lqmj29jccg4zzhvws_tr0000gn/T/ipykernel_1493/4271533430.py\u001b[0m in \u001b[0;36mnetworkDelayTime\u001b[0;34m(times, n, k)\u001b[0m\n\u001b[1;32m     12\u001b[0m         \u001b[0;31m# 우선순위 큐 최솟값 기준으로 정점까지 최단 경로 삽입\u001b[0m\u001b[0;34m\u001b[0m\u001b[0;34m\u001b[0m\u001b[0m\n\u001b[1;32m     13\u001b[0m     \u001b[0;32mwhile\u001b[0m \u001b[0mQ\u001b[0m\u001b[0;34m:\u001b[0m\u001b[0;34m\u001b[0m\u001b[0;34m\u001b[0m\u001b[0m\n\u001b[0;32m---> 14\u001b[0;31m         \u001b[0mtime\u001b[0m\u001b[0;34m,\u001b[0m \u001b[0mnode\u001b[0m \u001b[0;34m=\u001b[0m \u001b[0mheapq\u001b[0m\u001b[0;34m.\u001b[0m\u001b[0mheappop\u001b[0m\u001b[0;34m(\u001b[0m\u001b[0mQ\u001b[0m\u001b[0;34m)\u001b[0m\u001b[0;34m\u001b[0m\u001b[0;34m\u001b[0m\u001b[0m\n\u001b[0m\u001b[1;32m     15\u001b[0m         \u001b[0;32mif\u001b[0m \u001b[0mnode\u001b[0m \u001b[0;32mnot\u001b[0m \u001b[0;32min\u001b[0m \u001b[0mdist\u001b[0m\u001b[0;34m:\u001b[0m\u001b[0;34m\u001b[0m\u001b[0;34m\u001b[0m\u001b[0m\n\u001b[1;32m     16\u001b[0m             \u001b[0mdist\u001b[0m\u001b[0;34m[\u001b[0m\u001b[0mnode\u001b[0m\u001b[0;34m]\u001b[0m \u001b[0;34m=\u001b[0m \u001b[0mtime\u001b[0m\u001b[0;34m\u001b[0m\u001b[0;34m\u001b[0m\u001b[0m\n",
      "\u001b[0;31mNameError\u001b[0m: name 'heapq' is not defined"
     ]
    }
   ],
   "source": [
    "networkDelayTime(times,8,3)"
   ]
  },
  {
   "cell_type": "markdown",
   "id": "a26b5e88",
   "metadata": {},
   "source": [
    "### 2. K 경유지 내 가장 저렴한 항공권 ( LeetCode  : 787 )"
   ]
  },
  {
   "cell_type": "code",
   "execution_count": null,
   "id": "7e074bd2",
   "metadata": {},
   "outputs": [],
   "source": [
    "def findCheapestPrice(n, flights, src, dst, K):\n",
    "    graph = defaultdict(list)\n",
    "    \n",
    "    for u,v,w in flights:\n",
    "        graph[u].append((v,w))\n",
    "    \n",
    "    Q = [(0, src, K)]\n",
    "    \n",
    "    while Q:\n",
    "        price, node, k = heapq.heappop(Q)\n",
    "        if node == dst:\n",
    "            return price\n",
    "        if k >= 0:\n",
    "            for v, w in graph[node]:\n",
    "                alt = price + w\n",
    "                heap.heappush((alt, v, k-1))\n",
    "    \n",
    "    `return -1"
   ]
  },
  {
   "cell_type": "markdown",
   "id": "96d67ee2",
   "metadata": {},
   "source": [
    "## 3) Tree"
   ]
  },
  {
   "cell_type": "markdown",
   "id": "467e4dcb",
   "metadata": {},
   "source": [
    "### Binary Tree"
   ]
  },
  {
   "cell_type": "markdown",
   "id": "cb50177e",
   "metadata": {},
   "source": [
    "### 1. 이진 트리의 최대 깊이 ( LeetCode : 104 )"
   ]
  },
  {
   "cell_type": "code",
   "execution_count": 139,
   "id": "42ee25c5",
   "metadata": {},
   "outputs": [],
   "source": [
    " class TreeNode(object):\n",
    "    def __init__(self, val=0, left=None, right=None):\n",
    "        self.val = val\n",
    "        self.left = left\n",
    "        self.right = right"
   ]
  },
  {
   "cell_type": "code",
   "execution_count": 179,
   "id": "130948ec",
   "metadata": {},
   "outputs": [],
   "source": [
    "root = TreeNode(3)\n",
    "root.left = TreeNode(9)\n",
    "root.right = TreeNode(20)\n",
    "root.left.left = TreeNode(None)\n",
    "root.left.right = TreeNode(None)\n",
    "root.right.left = TreeNode(15)\n",
    "root.right.right = TreeNode(7)"
   ]
  },
  {
   "cell_type": "code",
   "execution_count": 142,
   "id": "704ea2bd",
   "metadata": {},
   "outputs": [],
   "source": [
    "def maxDepth(root):\n",
    "    if root is None:\n",
    "        return 0\n",
    "\n",
    "    queue = deque([root]) # deque : 양방향 추출이 빈번한 경우 유리\n",
    "    depth = 0\n",
    "    \n",
    "    while queue: # BFS\n",
    "        depth += 1\n",
    "        # 큐 연산 추출 노드의 자식 노드 삽입\n",
    "        for _ in range(len(queue)): #len(queue) = 해당 depth의 부모 노드의 개수\n",
    "            cur_root = queue.popleft() #부모 노드 = cur_root\n",
    "            if cur_root.left: #자식노드(left)\n",
    "                queue.append(cur_root.left) #BFS 형태로(deque) 자식 노드들은 끝에 append  \n",
    "            if cur_root.right:#자식노드(right)\n",
    "                queue.append(cur_root.right)\n",
    "    # BFS 반복횟수 == 길이\n",
    "    return depth"
   ]
  },
  {
   "cell_type": "markdown",
   "id": "d43d9a74",
   "metadata": {},
   "source": [
    "### 2-4) 이진트리 반전 ( LeetCode : 226 )"
   ]
  },
  {
   "cell_type": "code",
   "execution_count": 195,
   "id": "33b4d921",
   "metadata": {},
   "outputs": [],
   "source": [
    "root = TreeNode(4)\n",
    "root.left = TreeNode(2)\n",
    "root.right = TreeNode(7)\n",
    "root.left.left = TreeNode(1)\n",
    "root.left.right = TreeNode(3)\n",
    "root.right.left = TreeNode(6)\n",
    "root.right.right = TreeNode(9)"
   ]
  },
  {
   "cell_type": "markdown",
   "id": "ebc56787",
   "metadata": {},
   "source": [
    "### 1. Like Python"
   ]
  },
  {
   "cell_type": "code",
   "execution_count": 175,
   "id": "6ce5c952",
   "metadata": {},
   "outputs": [],
   "source": [
    "class Solution(object):\n",
    "    def invertTree(self,root):\n",
    "        if root:\n",
    "            root.left, root.right = self.invertTree(root.right), self.invertTree(root.left)\n",
    "            return root\n",
    "        return None"
   ]
  },
  {
   "cell_type": "code",
   "execution_count": 176,
   "id": "b60464e0",
   "metadata": {},
   "outputs": [
    {
     "data": {
      "text/plain": [
       "<__main__.TreeNode at 0x7fdd09280eb0>"
      ]
     },
     "execution_count": 176,
     "metadata": {},
     "output_type": "execute_result"
    }
   ],
   "source": [
    "s = Solution()\n",
    "s.invertTree(root)"
   ]
  },
  {
   "cell_type": "code",
   "execution_count": 194,
   "id": "a57bb5a9",
   "metadata": {},
   "outputs": [
    {
     "name": "stdout",
     "output_type": "stream",
     "text": [
      "<__main__.TreeNode object at 0x7fdd09267550>\n",
      "<__main__.TreeNode object at 0x7fdd09267f70>\n",
      "<__main__.TreeNode object at 0x7fdd09267bb0>\n",
      "<__main__.TreeNode object at 0x7fdd09267b80>\n",
      "<__main__.TreeNode object at 0x7fdd09284280>\n",
      "<__main__.TreeNode object at 0x7fdd09284220>\n",
      "<__main__.TreeNode object at 0x7fdd09284b80>\n"
     ]
    }
   ],
   "source": [
    "#before rotate\n",
    "print(root) \n",
    "print(root.left) \n",
    "print(root.right) \n",
    "print(root.left.left) \n",
    "print(root.left.right) \n",
    "print(root.right.left) \n",
    "print(root.right.right)"
   ]
  },
  {
   "cell_type": "code",
   "execution_count": 189,
   "id": "12f13cbe",
   "metadata": {},
   "outputs": [
    {
     "name": "stdout",
     "output_type": "stream",
     "text": [
      "<__main__.TreeNode object at 0x7fdd09284e20>\n",
      "<__main__.TreeNode object at 0x7fdd09284d60>\n",
      "<__main__.TreeNode object at 0x7fdd092842e0>\n",
      "<__main__.TreeNode object at 0x7fdd09280af0>\n",
      "<__main__.TreeNode object at 0x7fdd09280fd0>\n",
      "<__main__.TreeNode object at 0x7fdd09280520>\n",
      "<__main__.TreeNode object at 0x7fdd09280df0>\n"
     ]
    }
   ],
   "source": [
    "#after rotate\n",
    "print(root) \n",
    "print(root.left) \n",
    "print(root.right) \n",
    "print(root.left.left) \n",
    "print(root.left.right) \n",
    "print(root.right.left) \n",
    "print(root.right.right)"
   ]
  },
  {
   "cell_type": "markdown",
   "id": "a284bd86",
   "metadata": {},
   "source": [
    "### 2. 반복 구조로 BFS"
   ]
  },
  {
   "cell_type": "code",
   "execution_count": 187,
   "id": "022b31d5",
   "metadata": {},
   "outputs": [],
   "source": [
    "def invertTree(root):\n",
    "    queue = deque([root])\n",
    "    \n",
    "    while queue:\n",
    "        node = queue.popleft()\n",
    "        \n",
    "        if node:\n",
    "            node.left, node.right = node.right, node.left\n",
    "            \n",
    "            queue.append(node.left)\n",
    "            queue.append(node.right)\n",
    "    return root"
   ]
  },
  {
   "cell_type": "code",
   "execution_count": 196,
   "id": "5e5979b3",
   "metadata": {},
   "outputs": [
    {
     "name": "stdout",
     "output_type": "stream",
     "text": [
      "<__main__.TreeNode object at 0x7fdd0929dc70>\n",
      "<__main__.TreeNode object at 0x7fdd0929dcd0>\n",
      "<__main__.TreeNode object at 0x7fdd0929dc10>\n",
      "<__main__.TreeNode object at 0x7fdd0929dca0>\n",
      "<__main__.TreeNode object at 0x7fdd0929dbe0>\n",
      "<__main__.TreeNode object at 0x7fdd0929db80>\n",
      "<__main__.TreeNode object at 0x7fdd0929ddc0>\n"
     ]
    }
   ],
   "source": [
    "#before rotate\n",
    "print(root) \n",
    "print(root.left) \n",
    "print(root.right) \n",
    "print(root.left.left) \n",
    "print(root.left.right) \n",
    "print(root.right.left) \n",
    "print(root.right.right)"
   ]
  },
  {
   "cell_type": "code",
   "execution_count": 199,
   "id": "9ec34992",
   "metadata": {},
   "outputs": [
    {
     "name": "stdout",
     "output_type": "stream",
     "text": [
      "<__main__.TreeNode object at 0x7fdd0929dcd0> <__main__.TreeNode object at 0x7fdd0929dc10>\n",
      "<__main__.TreeNode object at 0x7fdd0929dc10> <__main__.TreeNode object at 0x7fdd0929dcd0>\n"
     ]
    }
   ],
   "source": [
    "#epoch1\n",
    "queue = deque([root])\n",
    "node = queue.popleft()\n",
    "\n",
    "if node:\n",
    "    print(node.left,node.right)\n",
    "    node.left, node.right = node.right, node.left\n",
    "    print(node.left,node.right)\n",
    "    \n",
    "    queue.append(node.left)\n",
    "    queue.append(node.right)\n",
    "    "
   ]
  },
  {
   "cell_type": "markdown",
   "id": "5ce3588b",
   "metadata": {},
   "source": [
    "## BST"
   ]
  },
  {
   "cell_type": "markdown",
   "id": "9342674a",
   "metadata": {},
   "source": [
    "### 1) 정렬된 배열의 이진 탐색 트리 변환 ( LeetCode : 108 )"
   ]
  },
  {
   "cell_type": "code",
   "execution_count": null,
   "id": "a2b4e891",
   "metadata": {},
   "outputs": [],
   "source": [
    "def sortedArrayToBST(nums):\n",
    "    if not nums:\n",
    "        "
   ]
  },
  {
   "cell_type": "code",
   "execution_count": 21,
   "id": "73d51284",
   "metadata": {},
   "outputs": [],
   "source": [
    "def BST(nums):\n",
    "    nums.append(1)"
   ]
  },
  {
   "cell_type": "code",
   "execution_count": 22,
   "id": "9ee16d86",
   "metadata": {},
   "outputs": [
    {
     "data": {
      "text/plain": [
       "[1, 2, 3, 1]"
      ]
     },
     "execution_count": 22,
     "metadata": {},
     "output_type": "execute_result"
    }
   ],
   "source": [
    "a = [1,2,3]\n",
    "BST(a)\n",
    "a"
   ]
  },
  {
   "cell_type": "code",
   "execution_count": 23,
   "id": "629f835b",
   "metadata": {},
   "outputs": [],
   "source": [
    "a = [1,2,3]\n",
    "a = BST(a)\n",
    "a"
   ]
  },
  {
   "cell_type": "code",
   "execution_count": 24,
   "id": "04195b96",
   "metadata": {},
   "outputs": [],
   "source": [
    "def BST(nums):\n",
    "    nums.append(1)\n",
    "    return nums"
   ]
  },
  {
   "cell_type": "code",
   "execution_count": 25,
   "id": "3f6bfce8",
   "metadata": {},
   "outputs": [
    {
     "data": {
      "text/plain": [
       "[1, 2, 3, 1]"
      ]
     },
     "execution_count": 25,
     "metadata": {},
     "output_type": "execute_result"
    }
   ],
   "source": [
    "a = [1,2,3]\n",
    "BST(a)\n",
    "a"
   ]
  },
  {
   "cell_type": "code",
   "execution_count": 26,
   "id": "8ed955b8",
   "metadata": {},
   "outputs": [
    {
     "data": {
      "text/plain": [
       "[1, 2, 3, 1]"
      ]
     },
     "execution_count": 26,
     "metadata": {},
     "output_type": "execute_result"
    }
   ],
   "source": [
    "a = [1,2,3]\n",
    "a = BST(a)\n",
    "a"
   ]
  },
  {
   "cell_type": "markdown",
   "id": "2fc95ee0",
   "metadata": {},
   "source": [
    "## 4) Heap"
   ]
  },
  {
   "cell_type": "code",
   "execution_count": null,
   "id": "e581e136",
   "metadata": {},
   "outputs": [],
   "source": [
    "class BinaryHeap(object):\n",
    "    def __init__(self):\n",
    "        self.items = None\n",
    "    \n",
    "    def __len__(self):\n",
    "        return len(self.items) -1\n",
    "    "
   ]
  }
 ],
 "metadata": {
  "kernelspec": {
   "display_name": "Python 3 (ipykernel)",
   "language": "python",
   "name": "python3"
  },
  "language_info": {
   "codemirror_mode": {
    "name": "ipython",
    "version": 3
   },
   "file_extension": ".py",
   "mimetype": "text/x-python",
   "name": "python",
   "nbconvert_exporter": "python",
   "pygments_lexer": "ipython3",
   "version": "3.9.7"
  }
 },
 "nbformat": 4,
 "nbformat_minor": 5
}
