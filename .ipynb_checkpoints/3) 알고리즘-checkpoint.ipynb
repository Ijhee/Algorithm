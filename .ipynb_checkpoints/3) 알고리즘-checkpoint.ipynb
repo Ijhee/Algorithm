{
 "cells": [
  {
   "cell_type": "markdown",
   "id": "0783739f",
   "metadata": {},
   "source": [
    "## 1) 정렬"
   ]
  },
  {
   "cell_type": "markdown",
   "id": "da166110",
   "metadata": {},
   "source": [
    "### 1-2)"
   ]
  },
  {
   "cell_type": "code",
   "execution_count": 20,
   "id": "394128f8",
   "metadata": {},
   "outputs": [],
   "source": [
    "class Solution:\n",
    "    def merge(self, intervals):\n",
    "        merged = []\n",
    "        for i in sorted(intervals, key=lambda x: x[0]):\n",
    "            if merged and i[0] <= merged[-1][1]:\n",
    "                merged[-1][1] = max(merged[-1][1], i[1])\n",
    "            else:\n",
    "                merged += i,\n",
    "        return merged"
   ]
  },
  {
   "cell_type": "code",
   "execution_count": 22,
   "id": "0cd442e6",
   "metadata": {},
   "outputs": [
    {
     "data": {
      "text/plain": [
       "[[1, 6], [8, 10], [15, 18]]"
      ]
     },
     "execution_count": 22,
     "metadata": {},
     "output_type": "execute_result"
    }
   ],
   "source": [
    "m = Solution()\n",
    "m.merge(intervals)"
   ]
  },
  {
   "cell_type": "code",
   "execution_count": 24,
   "id": "53c705a9",
   "metadata": {},
   "outputs": [],
   "source": [
    "intervals = [[1,3],[2,6],[8,10],[15,18]]\n",
    "merged = []\n",
    "for i in sorted(intervals):\n",
    "    if merged and i[0] <= merged[-1][1]:\n",
    "        merged[-1][1] = max(merged[-1][1], i[1])\n",
    "    else:\n",
    "        merged += i,"
   ]
  },
  {
   "cell_type": "code",
   "execution_count": 28,
   "id": "92fa2cbc",
   "metadata": {
    "scrolled": true
   },
   "outputs": [
    {
     "data": {
      "text/plain": [
       "[1, 3]"
      ]
     },
     "execution_count": 28,
     "metadata": {},
     "output_type": "execute_result"
    }
   ],
   "source": [
    "merged = []\n",
    "merged += [1,3],\n",
    "merged[-1]"
   ]
  },
  {
   "cell_type": "markdown",
   "id": "af2f055f",
   "metadata": {},
   "source": [
    "### 1-3)"
   ]
  },
  {
   "cell_type": "code",
   "execution_count": 29,
   "id": "1eff0561",
   "metadata": {},
   "outputs": [
    {
     "name": "stdout",
     "output_type": "stream",
     "text": [
      "3 4\n"
     ]
    }
   ],
   "source": [
    "a = 2\n",
    "a, b = 3, a+2\n",
    "print(a,b)"
   ]
  },
  {
   "cell_type": "markdown",
   "id": "6ef4647f",
   "metadata": {},
   "source": [
    "### 1-4)"
   ]
  },
  {
   "cell_type": "code",
   "execution_count": 39,
   "id": "ebf738ba",
   "metadata": {},
   "outputs": [],
   "source": [
    "class Solution:\n",
    "    # 문제에 적합한 비교 함수\n",
    "    @staticmethod\n",
    "    def to_swap(n1, n2):\n",
    "        return str(n1) + str(n2) < str(n2) + str(n1)\n",
    "\n",
    "    # 삽입 정렬 구현\n",
    "    def largestNumber(self,nums):\n",
    "        i = 1\n",
    "        while i < len(nums):\n",
    "            j = i\n",
    "            while j > 0 and self.to_swap(nums[j - 1], nums[j]):\n",
    "                nums[j], nums[j - 1] = nums[j - 1], nums[j]\n",
    "                j -= 1\n",
    "            i += 1\n",
    "\n",
    "        return str(int(''.join(map(str, nums))))"
   ]
  },
  {
   "cell_type": "code",
   "execution_count": null,
   "id": "9a347b48",
   "metadata": {},
   "outputs": [],
   "source": []
  },
  {
   "cell_type": "code",
   "execution_count": 32,
   "id": "7bfc46a7",
   "metadata": {},
   "outputs": [
    {
     "data": {
      "text/plain": [
       "False"
      ]
     },
     "execution_count": 32,
     "metadata": {},
     "output_type": "execute_result"
    }
   ],
   "source": [
    "str(2)+str(2) < str(2) + str(1)"
   ]
  },
  {
   "cell_type": "markdown",
   "id": "a94dad7b",
   "metadata": {},
   "source": [
    "### 1-7) 원점에서 K번째로 가까운 점"
   ]
  },
  {
   "cell_type": "code",
   "execution_count": 5,
   "id": "800f4d93",
   "metadata": {},
   "outputs": [],
   "source": [
    "if not(1 and 1):\n",
    "    print(1)"
   ]
  },
  {
   "cell_type": "code",
   "execution_count": null,
   "id": "e30c129c",
   "metadata": {},
   "outputs": [],
   "source": [
    "def KClosest(points, K):\n",
    "    heap = []\n",
    "    for (x,y) in points:\n",
    "        dist = x**2 + y**2\n",
    "        heapq.heappush(heap,(dist,x,y))\n",
    "    \n",
    "    result = []\n",
    "    for _ in range(K):\n",
    "        (dist, x, y) = heapq.heappop(heap)\n",
    "        result.append((x,y))\n",
    "        \n",
    "    return result"
   ]
  },
  {
   "cell_type": "code",
   "execution_count": 16,
   "id": "ae466143",
   "metadata": {},
   "outputs": [
    {
     "name": "stdout",
     "output_type": "stream",
     "text": [
      "[(10, 1, 3), (20, 2, 4)]\n",
      "[(1, 3)]\n"
     ]
    }
   ],
   "source": [
    "import heapq\n",
    "from heapq import heappush, heappop\n",
    "points = [[1,3],[2,4]]\n",
    "heap = []\n",
    "for (x,y) in points:\n",
    "    dist = x**2 + y**2\n",
    "    heapq.heappush(heap,(dist,x,y))\n",
    "    \n",
    "print(heap)\n",
    "\n",
    "result = []\n",
    "for _ in range(1):\n",
    "    (dist,x,y) = heapq.heappop(heap)\n",
    "    result.append((x,y))\n",
    "    \n",
    "print(result)"
   ]
  }
 ],
 "metadata": {
  "kernelspec": {
   "display_name": "Python 3 (ipykernel)",
   "language": "python",
   "name": "python3"
  },
  "language_info": {
   "codemirror_mode": {
    "name": "ipython",
    "version": 3
   },
   "file_extension": ".py",
   "mimetype": "text/x-python",
   "name": "python",
   "nbconvert_exporter": "python",
   "pygments_lexer": "ipython3",
   "version": "3.9.7"
  }
 },
 "nbformat": 4,
 "nbformat_minor": 5
}
