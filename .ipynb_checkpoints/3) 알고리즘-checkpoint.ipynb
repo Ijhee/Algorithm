{
 "cells": [
  {
   "cell_type": "markdown",
   "id": "0783739f",
   "metadata": {},
   "source": [
    "## 1) 정렬"
   ]
  },
  {
   "cell_type": "markdown",
   "id": "7f40d83b",
   "metadata": {},
   "source": [
    "### 1-2)"
   ]
  },
  {
   "cell_type": "code",
   "execution_count": 20,
   "id": "224d39cb",
   "metadata": {},
   "outputs": [],
   "source": [
    "class Solution:\n",
    "    def merge(self, intervals):\n",
    "        merged = []\n",
    "        for i in sorted(intervals, key=lambda x: x[0]):\n",
    "            if merged and i[0] <= merged[-1][1]:\n",
    "                merged[-1][1] = max(merged[-1][1], i[1])\n",
    "            else:\n",
    "                merged += i,\n",
    "        return merged"
   ]
  },
  {
   "cell_type": "code",
   "execution_count": 22,
   "id": "f9b60533",
   "metadata": {},
   "outputs": [
    {
     "data": {
      "text/plain": [
       "[[1, 6], [8, 10], [15, 18]]"
      ]
     },
     "execution_count": 22,
     "metadata": {},
     "output_type": "execute_result"
    }
   ],
   "source": [
    "m = Solution()\n",
    "m.merge(intervals)"
   ]
  },
  {
   "cell_type": "code",
   "execution_count": 24,
   "id": "21da9eb0",
   "metadata": {},
   "outputs": [],
   "source": [
    "intervals = [[1,3],[2,6],[8,10],[15,18]]\n",
    "merged = []\n",
    "for i in sorted(intervals):\n",
    "    if merged and i[0] <= merged[-1][1]:\n",
    "        merged[-1][1] = max(merged[-1][1], i[1])\n",
    "    else:\n",
    "        merged += i,"
   ]
  },
  {
   "cell_type": "code",
   "execution_count": 28,
   "id": "703eda0c",
   "metadata": {
    "scrolled": true
   },
   "outputs": [
    {
     "data": {
      "text/plain": [
       "[1, 3]"
      ]
     },
     "execution_count": 28,
     "metadata": {},
     "output_type": "execute_result"
    }
   ],
   "source": [
    "merged = []\n",
    "merged += [1,3],\n",
    "merged[-1]"
   ]
  },
  {
   "cell_type": "markdown",
   "id": "889f8e31",
   "metadata": {},
   "source": [
    "### 1-3)"
   ]
  },
  {
   "cell_type": "code",
   "execution_count": 29,
   "id": "926a245b",
   "metadata": {},
   "outputs": [
    {
     "name": "stdout",
     "output_type": "stream",
     "text": [
      "3 4\n"
     ]
    }
   ],
   "source": [
    "a = 2\n",
    "a, b = 3, a+2\n",
    "print(a,b)"
   ]
  },
  {
   "cell_type": "markdown",
   "id": "78777c74",
   "metadata": {},
   "source": [
    "### 1-4)"
   ]
  },
  {
   "cell_type": "code",
   "execution_count": 39,
   "id": "66cfa8bf",
   "metadata": {},
   "outputs": [],
   "source": [
    "class Solution:\n",
    "    # 문제에 적합한 비교 함수\n",
    "    @staticmethod\n",
    "    def to_swap(n1, n2):\n",
    "        return str(n1) + str(n2) < str(n2) + str(n1)\n",
    "\n",
    "    # 삽입 정렬 구현\n",
    "    def largestNumber(self,nums):\n",
    "        i = 1\n",
    "        while i < len(nums):\n",
    "            j = i\n",
    "            while j > 0 and self.to_swap(nums[j - 1], nums[j]):\n",
    "                nums[j], nums[j - 1] = nums[j - 1], nums[j]\n",
    "                j -= 1\n",
    "            i += 1\n",
    "\n",
    "        return str(int(''.join(map(str, nums))))"
   ]
  },
  {
   "cell_type": "code",
   "execution_count": 41,
   "id": "df670f1a",
   "metadata": {},
   "outputs": [
    {
     "data": {
      "text/plain": [
       "'9534330'"
      ]
     },
     "execution_count": 41,
     "metadata": {},
     "output_type": "execute_result"
    }
   ],
   "source": [
    "nums = [3,30,34,5,9]\n",
    "s = Solution()\n",
    "s.largestNumber(nums)"
   ]
  },
  {
   "cell_type": "code",
   "execution_count": 32,
   "id": "2d56930d",
   "metadata": {},
   "outputs": [
    {
     "data": {
      "text/plain": [
       "False"
      ]
     },
     "execution_count": 32,
     "metadata": {},
     "output_type": "execute_result"
    }
   ],
   "source": [
    "str(2)+str(2) < str(2) + str(1)"
   ]
  },
  {
   "cell_type": "markdown",
   "id": "a94dad7b",
   "metadata": {},
   "source": [
    "### 1-7) 원점에서 K번째로 가까운 점"
   ]
  },
  {
   "cell_type": "code",
   "execution_count": 5,
   "id": "473e32e6",
   "metadata": {},
   "outputs": [],
   "source": [
    "if not(1 and 1):\n",
    "    print(1)"
   ]
  },
  {
   "cell_type": "code",
   "execution_count": null,
   "id": "e30c129c",
   "metadata": {},
   "outputs": [],
   "source": [
    "def KClosest(points, K):\n",
    "    heap = []\n",
    "    for (x,y) in points:\n",
    "        dist = x**2 + y**2\n",
    "        heapq.heappush(heap,(dist,x,y))\n",
    "    \n",
    "    result = []\n",
    "    for _ in range(K):\n",
    "        (dist, x, y) = heapq.heappop(heap)\n",
    "        result.append((x,y))\n",
    "        \n",
    "    return result"
   ]
  },
  {
   "cell_type": "code",
   "execution_count": 16,
   "id": "ae466143",
   "metadata": {},
   "outputs": [
    {
     "name": "stdout",
     "output_type": "stream",
     "text": [
      "[(10, 1, 3), (20, 2, 4)]\n",
      "[(1, 3)]\n"
     ]
    }
   ],
   "source": [
    "import heapq\n",
    "from heapq import heappush, heappop\n",
    "points = [[1,3],[2,4]]\n",
    "heap = []\n",
    "for (x,y) in points:\n",
    "    dist = x**2 + y**2\n",
    "    heapq.heappush(heap,(dist,x,y))\n",
    "    \n",
    "print(heap)\n",
    "\n",
    "result = []\n",
    "for _ in range(1):\n",
    "    (dist,x,y) = heapq.heappop(heap)\n",
    "    result.append((x,y))\n",
    "    \n",
    "print(result)"
   ]
  },
  {
   "cell_type": "markdown",
   "id": "d8b4c3ad",
   "metadata": {},
   "source": [
    "## 2) Binary Search"
   ]
  },
  {
   "cell_type": "markdown",
   "id": "bd34e840",
   "metadata": {},
   "source": [
    "### 2-1) 이진 검색 ( LeetCode : 704 )"
   ]
  },
  {
   "cell_type": "code",
   "execution_count": 8,
   "id": "5abad9e7",
   "metadata": {},
   "outputs": [],
   "source": [
    "#1: 재귀 풀이\n",
    "def search(nums, target):\n",
    "    \n",
    "    def binary_search(left, right):\n",
    "        \n",
    "        if left <= right:\n",
    "            mid = (left + right) // 2\n",
    "\n",
    "            if nums[mid] < target:\n",
    "                return binary_search(mid+1, right)\n",
    "            elif nums[mid] > target:\n",
    "                return binary_search(left, mid-1)\n",
    "            else:\n",
    "                return mid\n",
    "        else:\n",
    "            return -1\n",
    "    \n",
    "    return binary_search(0, len(nums)-1)"
   ]
  },
  {
   "cell_type": "code",
   "execution_count": 7,
   "id": "2a8228a1",
   "metadata": {
    "scrolled": true
   },
   "outputs": [
    {
     "data": {
      "text/plain": [
       "4"
      ]
     },
     "execution_count": 7,
     "metadata": {},
     "output_type": "execute_result"
    }
   ],
   "source": [
    "nums = [-1,0,3,5,9,12]\n",
    "search(nums, 9)"
   ]
  },
  {
   "cell_type": "code",
   "execution_count": 33,
   "id": "55e7e311",
   "metadata": {},
   "outputs": [],
   "source": [
    "#2: 반복 풀이\n",
    "def search(nums, target):\n",
    "    left, right = 0, len(nums) - 1\n",
    "    while left <= right:\n",
    "        \n",
    "        mid = (left + right) // 2\n",
    "        \n",
    "        if nums[mid] < target:\n",
    "            left = mid+1\n",
    "        elif nums[mid] > target:\n",
    "            right = mid-1\n",
    "        else:\n",
    "            return mid\n",
    "        \n",
    "    return -1"
   ]
  },
  {
   "cell_type": "markdown",
   "id": "45d11628",
   "metadata": {},
   "source": [
    "### 2-4) 두 수의 합 2 ( LeetCode : 167 )"
   ]
  },
  {
   "cell_type": "code",
   "execution_count": 44,
   "id": "3b937bf4",
   "metadata": {},
   "outputs": [],
   "source": [
    "import bisect\n",
    "\n",
    "def twoSum(numbers, target):\n",
    "    for k,v in enumerate(numbers):\n",
    "        expected = target - v\n",
    "        i = bisect.bisect_left(numbers, expected)\n",
    "        if i < len(numbers) and numbers[i] == expected:\n",
    "            return k+1, i+1"
   ]
  },
  {
   "cell_type": "code",
   "execution_count": 45,
   "id": "1ac6b7b0",
   "metadata": {},
   "outputs": [
    {
     "data": {
      "text/plain": [
       "(3, 4)"
      ]
     },
     "execution_count": 45,
     "metadata": {},
     "output_type": "execute_result"
    }
   ],
   "source": [
    "numbers = [2,4,7,10]\n",
    "twoSum(numbers, 17)"
   ]
  },
  {
   "cell_type": "markdown",
   "id": "ae280bb1",
   "metadata": {},
   "source": [
    "### 2-5) 2D 헹렬검색 ( LeetCode : 167 )"
   ]
  },
  {
   "cell_type": "code",
   "execution_count": 47,
   "id": "6b420678",
   "metadata": {},
   "outputs": [],
   "source": [
    "matrix = [[2,4,5],\n",
    "         [1,2,3]]"
   ]
  },
  {
   "cell_type": "code",
   "execution_count": 48,
   "id": "89d9f295",
   "metadata": {},
   "outputs": [
    {
     "data": {
      "text/plain": [
       "2"
      ]
     },
     "execution_count": 48,
     "metadata": {},
     "output_type": "execute_result"
    }
   ],
   "source": [
    "len(matrix)"
   ]
  },
  {
   "cell_type": "markdown",
   "id": "310db886",
   "metadata": {},
   "source": [
    "## 3) Sliding Window"
   ]
  },
  {
   "cell_type": "markdown",
   "id": "6e2570ea",
   "metadata": {},
   "source": [
    "### 3-1) 최대 슬라이딩 윈도우 ( LeetCode : 239 )"
   ]
  },
  {
   "cell_type": "code",
   "execution_count": 7,
   "id": "c0298ab9",
   "metadata": {},
   "outputs": [
    {
     "data": {
      "text/plain": [
       "[3, 3, 5, 5, 6, 7]"
      ]
     },
     "execution_count": 7,
     "metadata": {},
     "output_type": "execute_result"
    }
   ],
   "source": [
    "#시간 초과 풀이\n",
    "\n",
    "nums = [1,3,-1,-3,5,3,6,7] ; k = 3\n",
    "res = []\n",
    "for i in range(len(nums)-k+1):\n",
    "    res.append(max(nums[i:i+k]))\n",
    "\n",
    "res"
   ]
  },
  {
   "cell_type": "code",
   "execution_count": 17,
   "id": "54c0d812",
   "metadata": {},
   "outputs": [],
   "source": [
    "window = []\n",
    "for i, v in enumerate(nums):\n",
    "    window.append(v)\n",
    "    if i < k-1 :\n",
    "        continue\n",
    "        print('1')"
   ]
  },
  {
   "cell_type": "code",
   "execution_count": 25,
   "id": "7d4acfba",
   "metadata": {},
   "outputs": [],
   "source": [
    "import collections\n",
    "window = collections.deque()\n",
    "window.append(1)\n",
    "window.append(3)\n",
    "window.append(-1)\n",
    "window.append(-3)\n",
    "window.append(5)"
   ]
  },
  {
   "cell_type": "code",
   "execution_count": 26,
   "id": "e8bab9eb",
   "metadata": {},
   "outputs": [
    {
     "data": {
      "text/plain": [
       "deque([1, 3, -1, -3, 5])"
      ]
     },
     "execution_count": 26,
     "metadata": {},
     "output_type": "execute_result"
    }
   ],
   "source": [
    "window"
   ]
  },
  {
   "cell_type": "code",
   "execution_count": 27,
   "id": "0bcdcc2b",
   "metadata": {},
   "outputs": [],
   "source": [
    "if window.popleft() == 5:\n",
    "    print(1)"
   ]
  },
  {
   "cell_type": "code",
   "execution_count": 28,
   "id": "35646fe9",
   "metadata": {},
   "outputs": [
    {
     "data": {
      "text/plain": [
       "deque([3, -1, -3, 5])"
      ]
     },
     "execution_count": 28,
     "metadata": {},
     "output_type": "execute_result"
    }
   ],
   "source": [
    "window"
   ]
  },
  {
   "cell_type": "markdown",
   "id": "13acc66f",
   "metadata": {},
   "source": [
    "### 3-2) 부분 문자열이 포함된 최소 윈도우 ( LeetCode : 76 )"
   ]
  },
  {
   "cell_type": "code",
   "execution_count": 35,
   "id": "7637373a",
   "metadata": {},
   "outputs": [],
   "source": [
    "def minWindow(s,t):\n",
    "    def contains(s_substr_lst, t_lst):\n",
    "        for t_elem in t_lst:\n",
    "            if t_elem in s_substr_lst:\n",
    "                pass\n",
    "            else:\n",
    "                return False\n",
    "        return True\n",
    "    \n",
    "    if not s or not t:\n",
    "        return ''\n",
    "    \n",
    "    window_size = len(t)\n",
    "    \n",
    "    for size in range(window_size, len(s)+1):\n",
    "        for left in range(len(s)- size +1):\n",
    "            s_substr = s[left:left+size]\n",
    "            if contains(list(s_substr), list(t)):\n",
    "                return s_substr\n",
    "    return ''"
   ]
  },
  {
   "cell_type": "code",
   "execution_count": 36,
   "id": "c6d19f48",
   "metadata": {},
   "outputs": [
    {
     "data": {
      "text/plain": [
       "'BANC'"
      ]
     },
     "execution_count": 36,
     "metadata": {},
     "output_type": "execute_result"
    }
   ],
   "source": [
    "minWindow('ADOBECODEBANC','ABC')"
   ]
  }
 ],
 "metadata": {
  "kernelspec": {
   "display_name": "Python 3 (ipykernel)",
   "language": "python",
   "name": "python3"
  },
  "language_info": {
   "codemirror_mode": {
    "name": "ipython",
    "version": 3
   },
   "file_extension": ".py",
   "mimetype": "text/x-python",
   "name": "python",
   "nbconvert_exporter": "python",
   "pygments_lexer": "ipython3",
   "version": "3.9.7"
  }
 },
 "nbformat": 4,
 "nbformat_minor": 5
}
