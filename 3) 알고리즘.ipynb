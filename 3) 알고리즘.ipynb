{
 "cells": [
  {
   "cell_type": "markdown",
   "id": "0783739f",
   "metadata": {},
   "source": [
    "## 1) 정렬"
   ]
  },
  {
   "cell_type": "markdown",
   "id": "7f40d83b",
   "metadata": {},
   "source": [
    "### 1-2)"
   ]
  },
  {
   "cell_type": "code",
   "execution_count": 20,
   "id": "224d39cb",
   "metadata": {},
   "outputs": [],
   "source": [
    "class Solution:\n",
    "    def merge(self, intervals):\n",
    "        merged = []\n",
    "        for i in sorted(intervals, key=lambda x: x[0]):\n",
    "            if merged and i[0] <= merged[-1][1]:\n",
    "                merged[-1][1] = max(merged[-1][1], i[1])\n",
    "            else:\n",
    "                merged += i,\n",
    "        return merged"
   ]
  },
  {
   "cell_type": "code",
   "execution_count": 22,
   "id": "f9b60533",
   "metadata": {},
   "outputs": [
    {
     "data": {
      "text/plain": [
       "[[1, 6], [8, 10], [15, 18]]"
      ]
     },
     "execution_count": 22,
     "metadata": {},
     "output_type": "execute_result"
    }
   ],
   "source": [
    "m = Solution()\n",
    "m.merge(intervals)"
   ]
  },
  {
   "cell_type": "code",
   "execution_count": 24,
   "id": "21da9eb0",
   "metadata": {},
   "outputs": [],
   "source": [
    "intervals = [[1,3],[2,6],[8,10],[15,18]]\n",
    "merged = []\n",
    "for i in sorted(intervals):\n",
    "    if merged and i[0] <= merged[-1][1]:\n",
    "        merged[-1][1] = max(merged[-1][1], i[1])\n",
    "    else:\n",
    "        merged += i,"
   ]
  },
  {
   "cell_type": "code",
   "execution_count": 28,
   "id": "703eda0c",
   "metadata": {
    "scrolled": true
   },
   "outputs": [
    {
     "data": {
      "text/plain": [
       "[1, 3]"
      ]
     },
     "execution_count": 28,
     "metadata": {},
     "output_type": "execute_result"
    }
   ],
   "source": [
    "merged = []\n",
    "merged += [1,3],\n",
    "merged[-1]"
   ]
  },
  {
   "cell_type": "markdown",
   "id": "889f8e31",
   "metadata": {},
   "source": [
    "### 1-3)"
   ]
  },
  {
   "cell_type": "code",
   "execution_count": 29,
   "id": "926a245b",
   "metadata": {},
   "outputs": [
    {
     "name": "stdout",
     "output_type": "stream",
     "text": [
      "3 4\n"
     ]
    }
   ],
   "source": [
    "a = 2\n",
    "a, b = 3, a+2\n",
    "print(a,b)"
   ]
  },
  {
   "cell_type": "markdown",
   "id": "78777c74",
   "metadata": {},
   "source": [
    "### 1-4)"
   ]
  },
  {
   "cell_type": "code",
   "execution_count": 39,
   "id": "66cfa8bf",
   "metadata": {},
   "outputs": [],
   "source": [
    "class Solution:\n",
    "    # 문제에 적합한 비교 함수\n",
    "    @staticmethod\n",
    "    def to_swap(n1, n2):\n",
    "        return str(n1) + str(n2) < str(n2) + str(n1)\n",
    "\n",
    "    # 삽입 정렬 구현\n",
    "    def largestNumber(self,nums):\n",
    "        i = 1\n",
    "        while i < len(nums):\n",
    "            j = i\n",
    "            while j > 0 and self.to_swap(nums[j - 1], nums[j]):\n",
    "                nums[j], nums[j - 1] = nums[j - 1], nums[j]\n",
    "                j -= 1\n",
    "            i += 1\n",
    "\n",
    "        return str(int(''.join(map(str, nums))))"
   ]
  },
  {
   "cell_type": "code",
   "execution_count": 41,
   "id": "df670f1a",
   "metadata": {},
   "outputs": [
    {
     "data": {
      "text/plain": [
       "'9534330'"
      ]
     },
     "execution_count": 41,
     "metadata": {},
     "output_type": "execute_result"
    }
   ],
   "source": [
    "nums = [3,30,34,5,9]\n",
    "s = Solution()\n",
    "s.largestNumber(nums)"
   ]
  },
  {
   "cell_type": "code",
   "execution_count": 32,
   "id": "2d56930d",
   "metadata": {},
   "outputs": [
    {
     "data": {
      "text/plain": [
       "False"
      ]
     },
     "execution_count": 32,
     "metadata": {},
     "output_type": "execute_result"
    }
   ],
   "source": [
    "str(2)+str(2) < str(2) + str(1)"
   ]
  },
  {
   "cell_type": "markdown",
   "id": "a94dad7b",
   "metadata": {},
   "source": [
    "### 1-7) 원점에서 K번째로 가까운 점"
   ]
  },
  {
   "cell_type": "code",
   "execution_count": 5,
   "id": "473e32e6",
   "metadata": {},
   "outputs": [],
   "source": [
    "if not(1 and 1):\n",
    "    print(1)"
   ]
  },
  {
   "cell_type": "code",
   "execution_count": null,
   "id": "e30c129c",
   "metadata": {},
   "outputs": [],
   "source": [
    "def KClosest(points, K):\n",
    "    heap = []\n",
    "    for (x,y) in points:\n",
    "        dist = x**2 + y**2\n",
    "        heapq.heappush(heap,(dist,x,y))\n",
    "    \n",
    "    result = []\n",
    "    for _ in range(K):\n",
    "        (dist, x, y) = heapq.heappop(heap)\n",
    "        result.append((x,y))\n",
    "        \n",
    "    return result"
   ]
  },
  {
   "cell_type": "code",
   "execution_count": 16,
   "id": "ae466143",
   "metadata": {},
   "outputs": [
    {
     "name": "stdout",
     "output_type": "stream",
     "text": [
      "[(10, 1, 3), (20, 2, 4)]\n",
      "[(1, 3)]\n"
     ]
    }
   ],
   "source": [
    "import heapq\n",
    "from heapq import heappush, heappop\n",
    "points = [[1,3],[2,4]]\n",
    "heap = []\n",
    "for (x,y) in points:\n",
    "    dist = x**2 + y**2\n",
    "    heapq.heappush(heap,(dist,x,y))\n",
    "    \n",
    "print(heap)\n",
    "\n",
    "result = []\n",
    "for _ in range(1):\n",
    "    (dist,x,y) = heapq.heappop(heap)\n",
    "    result.append((x,y))\n",
    "    \n",
    "print(result)"
   ]
  },
  {
   "cell_type": "markdown",
   "id": "5f599303",
   "metadata": {},
   "source": [
    "## 2) Binary Search"
   ]
  },
  {
   "cell_type": "markdown",
   "id": "4534ccd3",
   "metadata": {},
   "source": [
    "### 2-1) 이진 검색 ( LeetCode : 704 )"
   ]
  },
  {
   "cell_type": "code",
   "execution_count": 8,
   "id": "f8dfc559",
   "metadata": {},
   "outputs": [],
   "source": [
    "#1: 재귀 풀이\n",
    "def search(nums, target):\n",
    "    \n",
    "    def binary_search(left, right):\n",
    "        \n",
    "        if left <= right:\n",
    "            mid = (left + right) // 2\n",
    "\n",
    "            if nums[mid] < target:\n",
    "                return binary_search(mid+1, right)\n",
    "            elif nums[mid] > target:\n",
    "                return binary_search(left, mid-1)\n",
    "            else:\n",
    "                return mid\n",
    "        else:\n",
    "            return -1\n",
    "    \n",
    "    return binary_search(0, len(nums)-1)"
   ]
  },
  {
   "cell_type": "code",
   "execution_count": 7,
   "id": "8a3b32c8",
   "metadata": {
    "scrolled": true
   },
   "outputs": [
    {
     "data": {
      "text/plain": [
       "4"
      ]
     },
     "execution_count": 7,
     "metadata": {},
     "output_type": "execute_result"
    }
   ],
   "source": [
    "nums = [-1,0,3,5,9,12]\n",
    "search(nums, 9)"
   ]
  },
  {
   "cell_type": "code",
   "execution_count": 33,
   "id": "b69422e2",
   "metadata": {},
   "outputs": [],
   "source": [
    "#2: 반복 풀이\n",
    "def search(nums, target):\n",
    "    left, right = 0, len(nums) - 1\n",
    "    while left <= right:\n",
    "        \n",
    "        mid = (left + right) // 2\n",
    "        \n",
    "        if nums[mid] < target:\n",
    "            left = mid+1\n",
    "        elif nums[mid] > target:\n",
    "            right = mid-1\n",
    "        else:\n",
    "            return mid\n",
    "        \n",
    "    return -1"
   ]
  },
  {
   "cell_type": "markdown",
   "id": "dc88bb8d",
   "metadata": {},
   "source": [
    "### 2-4) 두 수의 합 2 ( LeetCode : 167 )"
   ]
  },
  {
   "cell_type": "code",
   "execution_count": 44,
   "id": "98157fb2",
   "metadata": {},
   "outputs": [],
   "source": [
    "import bisect\n",
    "\n",
    "def twoSum(numbers, target):\n",
    "    for k,v in enumerate(numbers):\n",
    "        expected = target - v\n",
    "        i = bisect.bisect_left(numbers, expected)\n",
    "        if i < len(numbers) and numbers[i] == expected:\n",
    "            return k+1, i+1"
   ]
  },
  {
   "cell_type": "code",
   "execution_count": 45,
   "id": "06d0d6d3",
   "metadata": {},
   "outputs": [
    {
     "data": {
      "text/plain": [
       "(3, 4)"
      ]
     },
     "execution_count": 45,
     "metadata": {},
     "output_type": "execute_result"
    }
   ],
   "source": [
    "numbers = [2,4,7,10]\n",
    "twoSum(numbers, 17)"
   ]
  },
  {
   "cell_type": "code",
   "execution_count": null,
   "id": "c3169f01",
   "metadata": {},
   "outputs": [],
   "source": []
  }
 ],
 "metadata": {
  "kernelspec": {
   "display_name": "Python 3 (ipykernel)",
   "language": "python",
   "name": "python3"
  },
  "language_info": {
   "codemirror_mode": {
    "name": "ipython",
    "version": 3
   },
   "file_extension": ".py",
   "mimetype": "text/x-python",
   "name": "python",
   "nbconvert_exporter": "python",
   "pygments_lexer": "ipython3",
   "version": "3.9.7"
  }
 },
 "nbformat": 4,
 "nbformat_minor": 5
}
